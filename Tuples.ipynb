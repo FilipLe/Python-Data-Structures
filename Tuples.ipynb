{
 "cells": [
  {
   "cell_type": "markdown",
   "metadata": {},
   "source": [
    "# <code style = \"color:blue\">Intro to Python Data Structures</code>\n",
    "© Nguyen Le, 2021."
   ]
  },
  {
   "cell_type": "markdown",
   "metadata": {},
   "source": [
    "## <code style=\"background:white; color:red\"> TUPLES INTRO</code>\n",
    "****"
   ]
  },
  {
   "cell_type": "markdown",
   "metadata": {},
   "source": [
    " - Tuples are like arrays\n",
    " - Tuples are used to store multiple items in a single variable.\n",
    " - Tuples, however, are <b>immutable</b> (can't add/change)\n",
    " - Tuples are ordered\n",
    " - Useful for fixed data\n",
    " - Faster than Lists\n",
    " - Sequence Type\n",
    " - Can be recognized by (&ensp;) brackets"
   ]
  },
  {
   "cell_type": "code",
   "execution_count": 1,
   "metadata": {},
   "outputs": [],
   "source": [
    "testTuple = ('Joe', 'Jake', 'Dylan')"
   ]
  },
  {
   "cell_type": "markdown",
   "metadata": {},
   "source": [
    "##### About Tuple Items"
   ]
  },
  {
   "cell_type": "markdown",
   "metadata": {},
   "source": [
    "- Ordered\n",
    "    - Items have a defined order, and that order will not change\n",
    "<br><br>\n",
    "- Unchangeable\n",
    "    - We cannot change, add or remove items after the tuple has been created\n",
    "<br><br>\n",
    "- Allow duplicate values\n",
    "    - Since tuple are indexed, tuples can have items with the same value\n",
    "<br><br>\n",
    "- Indexed. 1st item in tuple has index [<code style = \"background:gray, color:red\">0</code>], 2nd item has index [<code style = \"background:gray, color:red\">1</code>], etc."
   ]
  },
  {
   "cell_type": "code",
   "execution_count": 2,
   "metadata": {},
   "outputs": [
    {
     "name": "stdout",
     "output_type": "stream",
     "text": [
      "('apple', 'banana', 'cherry', 'apple', 'cherry')\n"
     ]
    }
   ],
   "source": [
    "fruits = (\"apple\", \"banana\", \"cherry\", \"apple\", \"cherry\")\n",
    "print(fruits)"
   ]
  },
  {
   "cell_type": "markdown",
   "metadata": {},
   "source": [
    "## <code style = \"background:white; color:red\">CONSTRUCTING A TUPLE</code>\n",
    "***\n",
    "**constructors** - creating new tuples.\n",
    "- A tuple is created by placing all the items inside parentheses (&ensp;), separated by commas.\n",
    "    - But the parentheses are optional\n",
    "- A tuple can have any number of items and they may be of different types (integer, float, list, string, etc.)\n",
    "<br><br>\n",
    "<br><b><u>4 types of tuples:</u></b>\n",
    "- Empty tuple\n",
    "- Tuple with 1 type of datatype\n",
    "- Tuple with mixed datatypes\n",
    "- Nested tuple"
   ]
  },
  {
   "cell_type": "code",
   "execution_count": 3,
   "metadata": {},
   "outputs": [
    {
     "name": "stdout",
     "output_type": "stream",
     "text": [
      "()\n",
      "(1, 2, 3)\n",
      "('a', 'b', 'c')\n",
      "(1, 'My name is Jeff', 3.4)\n",
      "('apple', [2, 4, 6], (1, 2, 7))\n"
     ]
    }
   ],
   "source": [
    "# Empty tuple\n",
    "empty_tuple = ()\n",
    "print(empty_tuple)\n",
    "\n",
    "\n",
    "# Tuple having 1 type of datatype\n",
    "single_tuple = (1, 2, 3)\n",
    "print(single_tuple)\n",
    "\n",
    "single_tuple2 = ('a','b','c')\n",
    "print(single_tuple2)\n",
    "\n",
    "\n",
    "# tuple with mixed datatypes\n",
    "mixed_tuple = (1, \"My name is Jeff\", 3.4)\n",
    "print(mixed_tuple)\n",
    "\n",
    "\n",
    "# nested tuple\n",
    "# This example: tuple nested with String, List, and Tuple\n",
    "my_tuple = (\"apple\", [2, 4, 6], (1, 2, 7))\n",
    "print(my_tuple)"
   ]
  },
  {
   "cell_type": "markdown",
   "metadata": {},
   "source": [
    "### Different ways of constructing Tuple:\n",
    "- <b>Using Parentheses</b>\n",
    "- <b>Tuple Packing</b>\n",
    "- <b><code style = \"color:black\">tuple()</code> method</b>"
   ]
  },
  {
   "cell_type": "markdown",
   "metadata": {},
   "source": [
    "### <code style=\"color:green\"><u>Using Parentheses</u></code>\n",
    "- A tuple is created by placing all the items inside parentheses (&ensp;), separated by commas."
   ]
  },
  {
   "cell_type": "code",
   "execution_count": 4,
   "metadata": {},
   "outputs": [],
   "source": [
    "# Creating empty tuple\n",
    "x = ()\n",
    "\n",
    "# Creating tuple by putting values separated by commas between parentheses \n",
    "x = (1, 2, 3)"
   ]
  },
  {
   "cell_type": "markdown",
   "metadata": {},
   "source": [
    "#### <code style = \"background:yellow; color:red\">CAUTION!</code>\n",
    "<u>CREATING TUPLE WITH 1 ELEMENT</u>\n",
    "- We need comma <b><u>right after the element</u></b> to indicate that it is a tuple"
   ]
  },
  {
   "cell_type": "code",
   "execution_count": 5,
   "metadata": {},
   "outputs": [
    {
     "name": "stdout",
     "output_type": "stream",
     "text": [
      "<class 'str'>\n",
      "<class 'tuple'>\n"
     ]
    }
   ],
   "source": [
    "# No comma --> becomes a string/integer\n",
    "my_tuple = (\"hello\")\n",
    "print(type(my_tuple))  \n",
    "\n",
    "# <class 'str'>\n",
    "\n",
    "\n",
    "\n",
    "# With comma --> becomes a tuple\n",
    "my_tuple = (\"hello\",)\n",
    "print(type(my_tuple))  \n",
    "\n",
    "# <class 'tuple'>"
   ]
  },
  {
   "cell_type": "markdown",
   "metadata": {},
   "source": [
    "### <code style = \"color:green\"><u>Tuple Packing</u></code>\n",
    "- The comma tells Python that it's a tuple\n",
    "- Creating tuple using only commas"
   ]
  },
  {
   "cell_type": "code",
   "execution_count": 6,
   "metadata": {},
   "outputs": [],
   "source": [
    "x = 1, 2, 3\n",
    "x = 2,    "
   ]
  },
  {
   "cell_type": "markdown",
   "metadata": {},
   "source": [
    "### <code style=\"color:green\"><u>Using</u><code style = \"background:gray, color:red\">tuple()</code><u> method to convert list to tuple\n",
    "- You can use the <code style = \"background:gray, color:red\">tuple()</code> method to convert a list to tuple"
   ]
  },
  {
   "cell_type": "code",
   "execution_count": 7,
   "metadata": {},
   "outputs": [],
   "source": [
    "my_list = [2, 4, 6]\n",
    "x = tuple(my_list)"
   ]
  },
  {
   "cell_type": "markdown",
   "metadata": {},
   "source": [
    "## <code style = \"background:white; color:red\">ACCESSING ITEMS IN A TUPLE</code>\n",
    "***\n",
    "- <b>Indexing</b>\n",
    "- <b>Negative indexing</b>\n",
    "- <b>Slicing</b>\n",
    "- <b>Negative slicing</b>"
   ]
  },
  {
   "cell_type": "markdown",
   "metadata": {},
   "source": [
    "### <code style=\"color:green\"><u>Indexing</u></code>\n",
    "- You can access tuple items by referring to the index number, inside square brackets <code style=\"color:black\">[&ensp;]</code>\n",
    "\n",
    "- Indexing starts with <code style=\"color:black\">0</code> for the first element\n",
    "\n",
    "- The last index is <code style=\"color:black\">no. of elements - 1</code>\n",
    "<br><br>\n",
    "\n",
    "    - E.g., a tuple having <code style=\"color:black\">6</code> elements will have indices from <code style=\"color:black\">0 to 5</code>\n",
    "<br><br>\n",
    "\n",
    "    - Trying to access an index outside of the tuple index range(6,7,... in this example) will raise an <code style=\"color:black\">IndexError</code>\n",
    "<br><br>\n",
    "\n",
    "- The index must be an integer, so we cannot use float or other types. This will result in <code style=\"color:black\">TypeError</code>"
   ]
  },
  {
   "cell_type": "code",
   "execution_count": 8,
   "metadata": {},
   "outputs": [
    {
     "name": "stdout",
     "output_type": "stream",
     "text": [
      "b\n",
      "n\n",
      "a\n"
     ]
    },
    {
     "ename": "IndexError",
     "evalue": "tuple index out of range",
     "output_type": "error",
     "traceback": [
      "\u001b[0;31m---------------------------------------------------------------------------\u001b[0m",
      "\u001b[0;31mIndexError\u001b[0m                                Traceback (most recent call last)",
      "\u001b[0;32m<ipython-input-8-170a24ac1c67>\u001b[0m in \u001b[0;36m<module>\u001b[0;34m\u001b[0m\n\u001b[1;32m     22\u001b[0m \u001b[0;34m\u001b[0m\u001b[0m\n\u001b[1;32m     23\u001b[0m \u001b[0;34m'''ask program to output 8th element'''\u001b[0m\u001b[0;34m\u001b[0m\u001b[0;34m\u001b[0m\u001b[0m\n\u001b[0;32m---> 24\u001b[0;31m \u001b[0mprint\u001b[0m\u001b[0;34m(\u001b[0m\u001b[0mfavorite_fruit\u001b[0m\u001b[0;34m[\u001b[0m\u001b[0;36m7\u001b[0m\u001b[0;34m]\u001b[0m\u001b[0;34m)\u001b[0m\u001b[0;34m\u001b[0m\u001b[0;34m\u001b[0m\u001b[0m\n\u001b[0m\u001b[1;32m     25\u001b[0m \u001b[0;31m#IndexError: list index out of range\u001b[0m\u001b[0;34m\u001b[0m\u001b[0;34m\u001b[0m\u001b[0;34m\u001b[0m\u001b[0m\n\u001b[1;32m     26\u001b[0m \u001b[0;34m\u001b[0m\u001b[0m\n",
      "\u001b[0;31mIndexError\u001b[0m: tuple index out of range"
     ]
    }
   ],
   "source": [
    "# a tuple \n",
    "favorite_fruit = ('b','a','n','a','n','a')\n",
    "\n",
    "\n",
    "'''ask program to output 1st element'''\n",
    "print(favorite_fruit[0])\n",
    "#'b'\n",
    "\n",
    "\n",
    "\n",
    "'''ask program to output 3rd element'''\n",
    "print(favorite_fruit[2])\n",
    "#'n'\n",
    "\n",
    "\n",
    "\n",
    "'''ask program to output 6th element'''\n",
    "print(favorite_fruit[5])\n",
    "#'a'\n",
    "\n",
    "\n",
    "\n",
    "'''ask program to output 8th element'''\n",
    "print(favorite_fruit[7])\n",
    "#IndexError: list index out of range\n",
    "\n",
    "\n",
    "\n",
    "'''ask program to output element position 3.0'''\n",
    "print(favorite_fruit[2.0])\n",
    "#TypeError: list indices must be integers, not float"
   ]
  },
  {
   "cell_type": "markdown",
   "metadata": {},
   "source": [
    "### <code style=\"color:green\"><u>Negative Indexing</u></code>\n",
    "- <b>Negative indexing means start from the end\n",
    "- <b><code style=\"color:purple\">-1</code> refers to the <u>last</u> item\n",
    "- <b><code style=\"color:purple\">-2</code> refers to the <u>second last</u> item\n",
    "- <b>..."
   ]
  },
  {
   "cell_type": "code",
   "execution_count": 9,
   "metadata": {},
   "outputs": [
    {
     "name": "stdout",
     "output_type": "stream",
     "text": [
      "a\n",
      "n\n"
     ]
    }
   ],
   "source": [
    "# a tuple \n",
    "favorite_fruit = ('b','a','n','a','n','a')\n",
    "\n",
    "'''ask program to output last element'''\n",
    "print(favorite_fruit[-1])\n",
    "#'a'\n",
    "\n",
    "\n",
    "'''ask program to output second last element'''\n",
    "print(favorite_fruit[-2])\n",
    "#'n'"
   ]
  },
  {
   "cell_type": "markdown",
   "metadata": {},
   "source": [
    "### <code style=\"color:green\"><u>Slicing</u></code>\n",
    "- You can specify a range of indexes by specifying where to start and where to end the range.\n",
    "<br><br>\n",
    "- When specifying a range, the return value will be a new tuple with the specified items.\n",
    "<br><br>\n",
    "Format: <code style = \"color:red\">tuple[start:end]</code>\n",
    "<br><br>\n",
    "    - <code style = \"color:red\">start</code> = start of range (<code style = \"background:yellow\">included</code>)\n",
    "    - <code style = \"color:red\">end</code> = end of range (<code style = \"background:yellow\">not included</code>)"
   ]
  },
  {
   "cell_type": "code",
   "execution_count": 10,
   "metadata": {},
   "outputs": [
    {
     "name": "stdout",
     "output_type": "stream",
     "text": [
      "('n', 'd', 'w')\n"
     ]
    }
   ],
   "source": [
    "'''The search will start at index 2 (included) and end at index 5 (not included)'''\n",
    "\n",
    "my_tuple = ('s','a','n','d','w','i','c','h')\n",
    "print(my_tuple[2:5])\n",
    "\n",
    "# ('n','d','w')"
   ]
  },
  {
   "cell_type": "markdown",
   "metadata": {},
   "source": [
    "Format: <code style = \"color:red\">tuple[:end]</code>\n",
    "    - By leaving out the start value\n",
    "        - the range will start at the first item:"
   ]
  },
  {
   "cell_type": "code",
   "execution_count": 11,
   "metadata": {},
   "outputs": [
    {
     "name": "stdout",
     "output_type": "stream",
     "text": [
      "('s', 'a', 'n', 'd')\n"
     ]
    }
   ],
   "source": [
    "'''The search will start at index 0 (included) and end at index 4 (not included)'''\n",
    "\n",
    "my_tuple = ('s','a','n','d','w','i','c','h')\n",
    "print(my_tuple[:4])\n",
    "\n",
    "# ('s','a','n','d')"
   ]
  },
  {
   "cell_type": "markdown",
   "metadata": {},
   "source": [
    "Format: <code style = \"color:red\">tuple[start:]</code>\n",
    "    - By leaving out the end value:\n",
    "        - the range will go on to the end of the list:"
   ]
  },
  {
   "cell_type": "code",
   "execution_count": 12,
   "metadata": {},
   "outputs": [
    {
     "name": "stdout",
     "output_type": "stream",
     "text": [
      "('n', 'd', 'w', 'i', 'c', 'h')\n"
     ]
    }
   ],
   "source": [
    "''' The search returns the items from index 2 ('n') to the end (index 7 'h') '''\n",
    "\n",
    "my_tuple = ('s','a','n','d','w','i','c','h')\n",
    "print(my_tuple[2:])\n",
    "\n",
    "# ('n','d','w','i','c','h')"
   ]
  },
  {
   "cell_type": "markdown",
   "metadata": {},
   "source": [
    "Format: <code style = \"color:red\">tuple[:]</code>\n",
    "    - Leaving out both the beginning and end value:\n",
    "        - the range will go from the beginning to the end of the list:"
   ]
  },
  {
   "cell_type": "code",
   "execution_count": 13,
   "metadata": {},
   "outputs": [
    {
     "name": "stdout",
     "output_type": "stream",
     "text": [
      "('s', 'a', 'n', 'd', 'w', 'i', 'c', 'h')\n"
     ]
    }
   ],
   "source": [
    "my_tuple = ('s','a','n','d','w','i','c','h')\n",
    "print(my_tuple[:])\n",
    "\n",
    "# ('s','a','n','d','w','i','c','h')"
   ]
  },
  {
   "cell_type": "markdown",
   "metadata": {},
   "source": [
    "### <code style=\"color:green\"><u>Negative Slicing</u></code>\n",
    "- <b>Negative indexing means starting from the end of the tuple.\n",
    "- <b><code style=\"color:purple\">-1</code> refers to the <u>last</u> item\n",
    "- <b><code style=\"color:purple\">-2</code> refers to the <u>second last</u> item\n",
    "- <b>etc..."
   ]
  },
  {
   "cell_type": "code",
   "execution_count": 14,
   "metadata": {},
   "outputs": [
    {
     "name": "stdout",
     "output_type": "stream",
     "text": [
      "('orange', 'kiwi', 'melon')\n"
     ]
    }
   ],
   "source": [
    "''' The search returns the items from index -4 (included) to index -1 (excluded) '''\n",
    "\n",
    "fruits = (\"apple\", \"banana\", \"cherry\", \"orange\", \"kiwi\", \"melon\", \"mango\")\n",
    "print(fruits[-4:-1])\n",
    "\n",
    "# ('orange', 'kiwi', 'melon')"
   ]
  },
  {
   "cell_type": "markdown",
   "metadata": {},
   "source": [
    "## <code style = \"background:white; color:red\">UPDATING A TUPLE</code>\n",
    "***\n",
    "• Once a tuple is created, you cannot change its values. \n",
    "<br>• Tuples are <code style = \"background:yellow\">immutable</code> (unchangeable)\n",
    "<br>• You cannot change, add, or remove items once the tuple is created\n",
    "<br>• <code style=\"background:yellow\">But</code>, there are ways to <code style=\"background:yellow\">work around it</code> \n",
    "<br><br>\n",
    "<u><code style=\"background:white; color:purple\">2 scenarios where you can work around it:</code></u>\n",
    "- Elements of the tuple are of mutable data type, such as lists\n",
    "- We reassign the tuple\n",
    "- Converting to list and back to tuple"
   ]
  },
  {
   "cell_type": "markdown",
   "metadata": {},
   "source": [
    "### <code style=\"color:green\"><u>Elements of the tuple are of mutable data type</u></code>\n",
    "- The tuple is a nested tuple\n",
    "- Elements of the tuple are of mutable data type, such as lists\n",
    "- If the element is itself a mutable data type like a list, its nested items can be changed."
   ]
  },
  {
   "cell_type": "code",
   "execution_count": 15,
   "metadata": {},
   "outputs": [
    {
     "ename": "TypeError",
     "evalue": "'tuple' object does not support item assignment",
     "output_type": "error",
     "traceback": [
      "\u001b[0;31m---------------------------------------------------------------------------\u001b[0m",
      "\u001b[0;31mTypeError\u001b[0m                                 Traceback (most recent call last)",
      "\u001b[0;32m<ipython-input-15-03e575f9dd05>\u001b[0m in \u001b[0;36m<module>\u001b[0;34m\u001b[0m\n\u001b[1;32m      2\u001b[0m \u001b[0;34m\u001b[0m\u001b[0m\n\u001b[1;32m      3\u001b[0m \u001b[0;34m'''Attempting to change the value of element at index 1 — an integer'''\u001b[0m\u001b[0;34m\u001b[0m\u001b[0;34m\u001b[0m\u001b[0m\n\u001b[0;32m----> 4\u001b[0;31m \u001b[0mmy_tuple\u001b[0m\u001b[0;34m[\u001b[0m\u001b[0;36m1\u001b[0m\u001b[0;34m]\u001b[0m \u001b[0;34m=\u001b[0m \u001b[0;36m9\u001b[0m\u001b[0;34m\u001b[0m\u001b[0;34m\u001b[0m\u001b[0m\n\u001b[0m\u001b[1;32m      5\u001b[0m \u001b[0mprint\u001b[0m\u001b[0;34m(\u001b[0m\u001b[0mmy_tuple\u001b[0m\u001b[0;34m)\u001b[0m\u001b[0;34m\u001b[0m\u001b[0;34m\u001b[0m\u001b[0m\n\u001b[1;32m      6\u001b[0m \u001b[0;34m\u001b[0m\u001b[0m\n",
      "\u001b[0;31mTypeError\u001b[0m: 'tuple' object does not support item assignment"
     ]
    }
   ],
   "source": [
    "my_tuple = (4, 2, 3, [6, 5])\n",
    "\n",
    "'''Attempting to change the value of element at index 1 — an integer'''\n",
    "my_tuple[1] = 9\n",
    "print(my_tuple)\n",
    "\n",
    "# TypeError: 'tuple' object does not support item assignment\n",
    "\n",
    "\n",
    "\n",
    "'''Attempting to change the value of element at index 3 — a list'''\n",
    "# item of mutable element can be changed\n",
    "my_tuple[3][0] = 9    \n",
    "print(my_tuple)\n",
    "\n",
    "# Output: (4, 2, 3, [9, 5])"
   ]
  },
  {
   "cell_type": "markdown",
   "metadata": {},
   "source": [
    "### <code style=\"color:green\"><u>Tuple reassignment</u></code>\n",
    "- Tuples can be reassigned"
   ]
  },
  {
   "cell_type": "code",
   "execution_count": 16,
   "metadata": {},
   "outputs": [
    {
     "name": "stdout",
     "output_type": "stream",
     "text": [
      "('d', 'a', 'i', 'l', 'y', 'd', 'o', 's', 'e', 'o', 'f', 'p', 'y', 't', 'h', 'o', 'n')\n"
     ]
    }
   ],
   "source": [
    "my_tuple = (4, 2, 3, [6, 5])\n",
    "my_tuple = ('d','a','i','l','y','d','o','s','e','o','f','p','y','t','h','o','n')\n",
    "\n",
    "# Output: ('d','a','i','l','y','d','o','s','e','o','f','p','y','t','h','o','n')\n",
    "\n",
    "print(my_tuple)"
   ]
  },
  {
   "cell_type": "markdown",
   "metadata": {},
   "source": [
    "### <code style=\"color:green\"><u>Converting to/from lists</u></code>\n",
    "<ul>\n",
    "<li>Once a tuple is created, you cannot change its values. \n",
    "<li>Tuples are unchangeable (immutable)\n",
    "<li>But there is a workaround. \n",
    "</ul>\n",
    "<ol>\n",
    "    <u>You can:</u> \n",
    "    <li>convert the tuple into a list\n",
    "    <li>change the list\n",
    "    <li>convert the list back into a tuple.\n"
   ]
  },
  {
   "cell_type": "code",
   "execution_count": 17,
   "metadata": {},
   "outputs": [
    {
     "name": "stdout",
     "output_type": "stream",
     "text": [
      "('apple', 'kiwi', 'cherry')\n"
     ]
    }
   ],
   "source": [
    "initial = (\"apple\", \"banana\", \"cherry\")\n",
    "temporary = list(initial)\n",
    "temporary[1] = \"kiwi\"\n",
    "initial = tuple(temporary)\n",
    "\n",
    "print(initial)"
   ]
  },
  {
   "cell_type": "markdown",
   "metadata": {},
   "source": [
    "## <code style = \"background:white; color:red\">ADDING ITEMS TO A TUPLE</code>\n",
    "***\n",
    "- Tuples are <u>immutable</u> (unchangeable)\n",
    "- You cannot change, add, or remove items once the tuple is created\n",
    "<br><br>\n",
    "- <u>But</u>, there is a way to work around it:\n",
    "<ol>\n",
    "    <li>Convert the tuple into a list, add your item(s), and convert it back into a tuple\n",
    "    <li>Adding/concantenating 2 tuples (or <code style=\"color:black\"><u>join</u></code> 2 tuples)\n",
    "    "
   ]
  },
  {
   "cell_type": "markdown",
   "metadata": {},
   "source": [
    "### <code style=\"color:green\"><u>Converting to/from lists</u></code>\n",
    "<ol>\n",
    "    <li>Convert tuple into list\n",
    "    <li>Add new item\n",
    "    <li>Convert back to tuple\n",
    "       "
   ]
  },
  {
   "cell_type": "code",
   "execution_count": 18,
   "metadata": {},
   "outputs": [
    {
     "name": "stdout",
     "output_type": "stream",
     "text": [
      "('apple', 'banana', 'cherry', 'kiwi')\n"
     ]
    }
   ],
   "source": [
    "# initial tuple\n",
    "initial = (\"apple\", \"banana\", \"cherry\")\n",
    "\n",
    "# our tuple in list form\n",
    "temporary = list(initial)\n",
    "\n",
    "# adding new item to the list\n",
    "temporary.append(\"kiwi\")\n",
    "\n",
    "# converting back to tuple using the tuple() method\n",
    "initial = tuple(temporary)\n",
    "\n",
    "print(initial)\n",
    "\n",
    "# Output: (\"apple\", \"banana\", \"cherry\", \"kiwi\")"
   ]
  },
  {
   "cell_type": "markdown",
   "metadata": {},
   "source": [
    "### <code style=\"color:green\"><u>Adding/concatenating (joining)</u></code>\n",
    "- Combining 2 tuples using the <code style=\"color:red\">+</code> operator"
   ]
  },
  {
   "cell_type": "code",
   "execution_count": 19,
   "metadata": {},
   "outputs": [
    {
     "name": "stdout",
     "output_type": "stream",
     "text": [
      "('Kevin', 'Niklas', 'Jenny', 'Craig')\n",
      "(1, 2, 4)\n",
      "('a', 'b', 'c', 1, 2, 3)\n"
     ]
    }
   ],
   "source": [
    "z = ('Kevin', 'Niklas', 'Jenny') + ('Craig',)\n",
    "print(z)\n",
    "\n",
    "# Output: ('Kevin', 'Niklas', 'Jenny', 'Craig')\n",
    "\n",
    "\n",
    "\n",
    "y = (1,2)\n",
    "y += (4,)  \n",
    "print(y)\n",
    "\n",
    "# Output: (1,2,4)\n",
    "\n",
    "\n",
    "\n",
    "tuple1 = (\"a\", \"b\", \"c\")\n",
    "tuple2 = (1, 2, 3)\n",
    "\n",
    "tuple3 = tuple1 + tuple2\n",
    "print(tuple3)\n",
    "\n",
    "# Output: (\"a\", \"b\", \"c\", 1, 2, 3)"
   ]
  },
  {
   "cell_type": "markdown",
   "metadata": {},
   "source": [
    "## <code style = \"background:white; color:red\">DELETING A TUPLE</code>\n",
    "***\n",
    "- We cannot change the elements in a tuple. \n",
    "- It means that we cannot delete or remove items from a tuple.\n",
    "- Deleting a tuple entirely, however, is possible using the keyword <code style=\"color:blue\">del</code>"
   ]
  },
  {
   "cell_type": "markdown",
   "metadata": {},
   "source": [
    "<u><code style=\"background:white; color:purple\">Cannot delete individual items:</code></u>"
   ]
  },
  {
   "cell_type": "code",
   "execution_count": 20,
   "metadata": {},
   "outputs": [
    {
     "ename": "TypeError",
     "evalue": "'tuple' object doesn't support item deletion",
     "output_type": "error",
     "traceback": [
      "\u001b[0;31m---------------------------------------------------------------------------\u001b[0m",
      "\u001b[0;31mTypeError\u001b[0m                                 Traceback (most recent call last)",
      "\u001b[0;32m<ipython-input-20-dcc7f7c4e3b4>\u001b[0m in \u001b[0;36m<module>\u001b[0;34m\u001b[0m\n\u001b[1;32m      1\u001b[0m \u001b[0mmy_tuple\u001b[0m \u001b[0;34m=\u001b[0m \u001b[0;34m(\u001b[0m\u001b[0;34m'd'\u001b[0m\u001b[0;34m,\u001b[0m\u001b[0;34m'a'\u001b[0m\u001b[0;34m,\u001b[0m\u001b[0;34m'i'\u001b[0m\u001b[0;34m,\u001b[0m\u001b[0;34m'l'\u001b[0m\u001b[0;34m,\u001b[0m\u001b[0;34m'y'\u001b[0m\u001b[0;34m,\u001b[0m\u001b[0;34m'd'\u001b[0m\u001b[0;34m,\u001b[0m\u001b[0;34m'o'\u001b[0m\u001b[0;34m,\u001b[0m\u001b[0;34m's'\u001b[0m\u001b[0;34m,\u001b[0m\u001b[0;34m'e'\u001b[0m\u001b[0;34m,\u001b[0m\u001b[0;34m'o'\u001b[0m\u001b[0;34m,\u001b[0m\u001b[0;34m'f'\u001b[0m\u001b[0;34m,\u001b[0m\u001b[0;34m'p'\u001b[0m\u001b[0;34m,\u001b[0m\u001b[0;34m'y'\u001b[0m\u001b[0;34m,\u001b[0m\u001b[0;34m't'\u001b[0m\u001b[0;34m,\u001b[0m\u001b[0;34m'h'\u001b[0m\u001b[0;34m,\u001b[0m\u001b[0;34m'o'\u001b[0m\u001b[0;34m,\u001b[0m\u001b[0;34m'n'\u001b[0m\u001b[0;34m)\u001b[0m\u001b[0;34m\u001b[0m\u001b[0;34m\u001b[0m\u001b[0m\n\u001b[0;32m----> 2\u001b[0;31m \u001b[0;32mdel\u001b[0m \u001b[0mmy_tuple\u001b[0m\u001b[0;34m[\u001b[0m\u001b[0;36m3\u001b[0m\u001b[0;34m]\u001b[0m\u001b[0;34m\u001b[0m\u001b[0;34m\u001b[0m\u001b[0m\n\u001b[0m\u001b[1;32m      3\u001b[0m \u001b[0;34m\u001b[0m\u001b[0m\n\u001b[1;32m      4\u001b[0m \u001b[0;31m# TypeError: 'tuple' object doesn't support item deletion\u001b[0m\u001b[0;34m\u001b[0m\u001b[0;34m\u001b[0m\u001b[0;34m\u001b[0m\u001b[0m\n",
      "\u001b[0;31mTypeError\u001b[0m: 'tuple' object doesn't support item deletion"
     ]
    }
   ],
   "source": [
    "my_tuple = ('d','a','i','l','y','d','o','s','e','o','f','p','y','t','h','o','n')\n",
    "del my_tuple[3]\n",
    "\n",
    "# TypeError: 'tuple' object doesn't support item deletion"
   ]
  },
  {
   "cell_type": "markdown",
   "metadata": {},
   "source": [
    "<u><code style=\"background:white; color:purple\">Can delete whole tuple:</code></u>"
   ]
  },
  {
   "cell_type": "code",
   "execution_count": 21,
   "metadata": {},
   "outputs": [
    {
     "ename": "NameError",
     "evalue": "name 'my_tuple' is not defined",
     "output_type": "error",
     "traceback": [
      "\u001b[0;31m---------------------------------------------------------------------------\u001b[0m",
      "\u001b[0;31mNameError\u001b[0m                                 Traceback (most recent call last)",
      "\u001b[0;32m<ipython-input-21-754919d15316>\u001b[0m in \u001b[0;36m<module>\u001b[0;34m\u001b[0m\n\u001b[1;32m      2\u001b[0m \u001b[0;32mdel\u001b[0m \u001b[0mmy_tuple\u001b[0m\u001b[0;34m\u001b[0m\u001b[0;34m\u001b[0m\u001b[0m\n\u001b[1;32m      3\u001b[0m \u001b[0;34m\u001b[0m\u001b[0m\n\u001b[0;32m----> 4\u001b[0;31m \u001b[0mprint\u001b[0m\u001b[0;34m(\u001b[0m\u001b[0mmy_tuple\u001b[0m\u001b[0;34m)\u001b[0m\u001b[0;34m\u001b[0m\u001b[0;34m\u001b[0m\u001b[0m\n\u001b[0m\u001b[1;32m      5\u001b[0m \u001b[0;31m# NameError: name 'my_tuple' is not defined\u001b[0m\u001b[0;34m\u001b[0m\u001b[0;34m\u001b[0m\u001b[0;34m\u001b[0m\u001b[0m\n",
      "\u001b[0;31mNameError\u001b[0m: name 'my_tuple' is not defined"
     ]
    }
   ],
   "source": [
    "my_tuple = ('d','a','i','l','y','d','o','s','e','o','f','p','y','t','h','o','n')\n",
    "del my_tuple\n",
    "\n",
    "print(my_tuple)\n",
    "# NameError: name 'my_tuple' is not defined"
   ]
  },
  {
   "cell_type": "markdown",
   "metadata": {},
   "source": [
    "### <u><code style=\"background:white; color:purple\">But:</code></u>\n",
    "**Tuples are immutable**; however, member objects may be mutable\n",
    "- The tuple is a nested tuple\n",
    "- Elements of the tuple are of mutable data type, such as lists\n",
    "- If the element is itself a mutable data type like a list, its nested items can be changed."
   ]
  },
  {
   "cell_type": "code",
   "execution_count": 22,
   "metadata": {},
   "outputs": [
    {
     "name": "stdout",
     "output_type": "stream",
     "text": [
      "([1], 3)\n"
     ]
    }
   ],
   "source": [
    "y = ([1, 2], 3)   # a tuple where the first item is a list\n",
    "del(y[0][1])      # delete '2'\n",
    "print(y)          # the list within the tuple is mutable\n",
    "\n",
    "# Output: ([1], 3)"
   ]
  },
  {
   "cell_type": "markdown",
   "metadata": {},
   "source": [
    "## <code style = \"background:white; color:red\">UNPACKING A TUPLE</code>\n",
    "***\n",
    "- When we create a tuple, we normally <u>assign values</u> to it. This is called \"<code style = \"color: red\">packing</code>\" a tuple:\n",
    "- But, in Python, we are also allowed to <u>extract the values back into variables</u>. This is called \"<code style = \"color:red\">unpacking</code>\":"
   ]
  },
  {
   "cell_type": "markdown",
   "metadata": {},
   "source": [
    "<u><code style=\"background:white; color:purple\">Packing a tuple</code></u>"
   ]
  },
  {
   "cell_type": "code",
   "execution_count": 23,
   "metadata": {},
   "outputs": [
    {
     "name": "stdout",
     "output_type": "stream",
     "text": [
      "('apple', 'banana', 'cherry')\n"
     ]
    }
   ],
   "source": [
    "fruits = (\"apple\", \"banana\", \"cherry\")\n",
    "print(fruits)\n",
    "\n",
    "# Output: (\"apple\", \"banana\", \"cherry\")"
   ]
  },
  {
   "cell_type": "markdown",
   "metadata": {},
   "source": [
    "<u><code style=\"background:white; color:purple\">Unpacking a tuple</code></u>"
   ]
  },
  {
   "cell_type": "code",
   "execution_count": 24,
   "metadata": {},
   "outputs": [
    {
     "name": "stdout",
     "output_type": "stream",
     "text": [
      "apple\n",
      "banana\n",
      "cherry\n"
     ]
    }
   ],
   "source": [
    "fruits = (\"apple\", \"banana\", \"cherry\")\n",
    "\n",
    "(first_fruit, second_fruit, third_fruit) = fruits\n",
    "\n",
    "print(first_fruit) #apple\n",
    "print(second_fruit) #banana\n",
    "print(third_fruit) #cherry"
   ]
  },
  {
   "cell_type": "markdown",
   "metadata": {},
   "source": [
    "<code style = \"background:yellow; color:red\">Note:</code> <u>The number of variables must match the number of values in the tuple</u>, if not, you must use an asterix to collect the remaining values as a list."
   ]
  },
  {
   "cell_type": "markdown",
   "metadata": {},
   "source": [
    "## <code style = \"background:white; color:red\">ITERATING A TUPLE</code>\n",
    "***\n",
    "- <b> Loop through a Tuple\n",
    "- <b> Loop through the index numbers\n",
    "- <b> Using <code style = \"color:blue\">while</code> loop"
   ]
  },
  {
   "cell_type": "markdown",
   "metadata": {},
   "source": [
    "### <code style=\"color:green\"><u>Loop through a tuple</u></code>\n",
    "- Loop through the tuple items by using <code style = \"color:blue\">for</code> loop"
   ]
  },
  {
   "cell_type": "code",
   "execution_count": 25,
   "metadata": {},
   "outputs": [
    {
     "name": "stdout",
     "output_type": "stream",
     "text": [
      "apple\n",
      "banana\n",
      "cherry\n"
     ]
    }
   ],
   "source": [
    "fruits = (\"apple\", \"banana\", \"cherry\")\n",
    "for x in fruits:\n",
    "    print(x)"
   ]
  },
  {
   "cell_type": "markdown",
   "metadata": {},
   "source": [
    "### <code style=\"color:green\"><u>Loop through the index numbers</u></code>\n",
    "- Loop through the tuple items by referring to their index number.\n",
    "\n",
    "- Use the <code style = \"color:red\">range()</code> and <code style = \"color:red\">len()</code> functions to create a suitable iterable."
   ]
  },
  {
   "cell_type": "code",
   "execution_count": 26,
   "metadata": {},
   "outputs": [
    {
     "name": "stdout",
     "output_type": "stream",
     "text": [
      "apple\n",
      "banana\n",
      "cherry\n"
     ]
    }
   ],
   "source": [
    "fruits = (\"apple\", \"banana\", \"cherry\")\n",
    "for i in range(len(fruits)):\n",
    "    print(fruits[i])"
   ]
  },
  {
   "cell_type": "markdown",
   "metadata": {},
   "source": [
    "### <code style=\"color:green\"><u>Using while loops</u></code>\n",
    "- You can loop through the list items by using a <code style = \"color:red\">while</code> loop.\n",
    "\n",
    "- Use the <code style = \"color:red\">len()</code> function to determine the length of the tuple, then start at 0 and loop through the tuple items by refering to their indexes.\n",
    "\n",
    "- Remember to increment the index by 1 after each iteration."
   ]
  },
  {
   "cell_type": "code",
   "execution_count": 27,
   "metadata": {},
   "outputs": [
    {
     "name": "stdout",
     "output_type": "stream",
     "text": [
      "apple\n",
      "banana\n",
      "cherry\n"
     ]
    }
   ],
   "source": [
    "#tuple\n",
    "fruits = (\"apple\", \"banana\", \"cherry\")\n",
    "\n",
    "#counter to keep track of indices\n",
    "counter = 0\n",
    "\n",
    "#main loop\n",
    "while counter < len(fruits):\n",
    "    \n",
    "    #print element at current index\n",
    "    print(fruits[counter])\n",
    "    \n",
    "    #increment index\n",
    "    counter += 1"
   ]
  },
  {
   "cell_type": "markdown",
   "metadata": {},
   "source": [
    "## <code style = \"background:white; color:red\">CHECKING MEMBERSHIP OF ITEMS IN A TUPLE</code>\n",
    "***\n",
    "We can test if an item exists in a tuple or not, using the keyword <code style = \"color:blue\">in</code>"
   ]
  },
  {
   "cell_type": "code",
   "execution_count": 28,
   "metadata": {},
   "outputs": [
    {
     "name": "stdout",
     "output_type": "stream",
     "text": [
      "True\n",
      "False\n",
      "True\n"
     ]
    },
    {
     "data": {
      "text/plain": [
       "'Expected output'"
      ]
     },
     "execution_count": 28,
     "metadata": {},
     "output_type": "execute_result"
    }
   ],
   "source": [
    "# Membership test in tuple\n",
    "my_tuple = ('a', 'p', 'p', 'l', 'e',)\n",
    "\n",
    "# In operation\n",
    "print('a' in my_tuple)\n",
    "print('b' in my_tuple)\n",
    "\n",
    "# Not in operation\n",
    "print('g' not in my_tuple)\n",
    "\n",
    "\n",
    "'''Expected output'''\n",
    "# True\n",
    "# False\n",
    "# True"
   ]
  },
  {
   "cell_type": "markdown",
   "metadata": {},
   "source": [
    "## <code style = \"background:white; color:red\">TUPLE METHODS</code>\n",
    "***\n",
    "<ol>\n",
    "<li><code style = \"color:red\">count()</code> --> Returns the number of times a specified value occurs in a tuple\n",
    "<li><code style = \"color:red\">index()</code> --> Searches the tuple for a specified value and returns the position of where it was found"
   ]
  },
  {
   "cell_type": "markdown",
   "metadata": {},
   "source": [
    "### <code style=\"color:green\"><u>count()</u></code>\n",
    "- returns count/frequency of an item"
   ]
  },
  {
   "cell_type": "code",
   "execution_count": 29,
   "metadata": {},
   "outputs": [
    {
     "name": "stdout",
     "output_type": "stream",
     "text": [
      "1\n"
     ]
    }
   ],
   "source": [
    "z = ('Kevin', 'Niklas', 'Jenny', 'Craig')\n",
    "print(z.count('Kevin'))\n",
    "\n",
    "# Output: 1 --> the string 'Kevin' only occurs once in the tuple"
   ]
  },
  {
   "cell_type": "markdown",
   "metadata": {},
   "source": [
    "### <code style=\"color:green\"><u>index()</u></code>\n",
    "- returns the index of an item"
   ]
  },
  {
   "cell_type": "code",
   "execution_count": 30,
   "metadata": {},
   "outputs": [
    {
     "name": "stdout",
     "output_type": "stream",
     "text": [
      "2\n"
     ]
    }
   ],
   "source": [
    "z = ('Kevin', 'Niklas', 'Jenny', 'Craig')\n",
    "print(z.index('Jenny'))\n",
    "\n",
    "# Output: 2 --> 3rd element"
   ]
  },
  {
   "cell_type": "markdown",
   "metadata": {},
   "source": [
    "## <code style = \"background:white; color:red\">TUPLE BUILT-IN FUNCTIONS</code>\n",
    "***"
   ]
  },
  {
   "cell_type": "markdown",
   "metadata": {},
   "source": [
    "### <code style=\"color:green\"><u>MULTIPLYING IN A TUPLE</u></code>\n",
    "***\n",
    "**multiplying** - multiply a sequence using *"
   ]
  },
  {
   "cell_type": "code",
   "execution_count": 31,
   "metadata": {},
   "outputs": [
    {
     "name": "stdout",
     "output_type": "stream",
     "text": [
      "(2, 4, 2, 4, 2, 4)\n"
     ]
    }
   ],
   "source": [
    "z = (2, 4) * 3\n",
    "print(z)"
   ]
  },
  {
   "cell_type": "markdown",
   "metadata": {},
   "source": [
    "### <code style=\"color:green\"><u>CHECKING AMOUNT OF ITEMS IN A TUPLE</u></code>\n",
    "***\n",
    "**number of items** - count the number of items in a sequence"
   ]
  },
  {
   "cell_type": "code",
   "execution_count": 32,
   "metadata": {},
   "outputs": [
    {
     "name": "stdout",
     "output_type": "stream",
     "text": [
      "4\n"
     ]
    }
   ],
   "source": [
    "z = ('Kevin', 'Niklas', 'Jenny', 'Craig')\n",
    "print(len(z))"
   ]
  },
  {
   "cell_type": "markdown",
   "metadata": {},
   "source": [
    "### <code style=\"color:green\"><u>FINDING MINIMUM AND MAXIMUM IN A TUPLE</u></code>\n",
    "***\n",
    "**minimum** - find the minimum item in a sequence lexicographically.  \n",
    "Alpha or numeric types, but cannot mix types."
   ]
  },
  {
   "cell_type": "code",
   "execution_count": 33,
   "metadata": {},
   "outputs": [
    {
     "name": "stdout",
     "output_type": "stream",
     "text": [
      "Craig\n"
     ]
    }
   ],
   "source": [
    "#minimum\n",
    "z = ('Kevin', 'Niklas', 'Jenny', 'Craig')\n",
    "print(min(z))"
   ]
  },
  {
   "cell_type": "markdown",
   "metadata": {},
   "source": [
    "**maximum** - find the maximum item in a sequence lexicographically.  \n",
    "Alpha or numeric types, but cannot mix types."
   ]
  },
  {
   "cell_type": "code",
   "execution_count": 34,
   "metadata": {},
   "outputs": [
    {
     "name": "stdout",
     "output_type": "stream",
     "text": [
      "Niklas\n"
     ]
    }
   ],
   "source": [
    "#maximum\n",
    "z = ('Kevin', 'Niklas', 'Jenny', 'Craig')\n",
    "print(max(z))"
   ]
  },
  {
   "cell_type": "markdown",
   "metadata": {},
   "source": [
    "### <code style=\"color:green\"><u>FINDING THE SUM OF ITEMS IN A TUPLE</u></code>\n",
    "***\n",
    "**sum** - find the sum of items in a sequence.  \n",
    "Entire sequence must be numeric."
   ]
  },
  {
   "cell_type": "code",
   "execution_count": 35,
   "metadata": {},
   "outputs": [
    {
     "name": "stdout",
     "output_type": "stream",
     "text": [
      "80\n"
     ]
    }
   ],
   "source": [
    "z = (50, 4, 7, 19)\n",
    "print(sum(z))"
   ]
  },
  {
   "cell_type": "markdown",
   "metadata": {},
   "source": [
    "### <code style=\"color:green\"><u>SORTING ITEMS IN A TUPLE</u></code>\n",
    "***\n",
    "**sorting** - returns a new list of items in sorted order.  \n",
    "Does not change the original list."
   ]
  },
  {
   "cell_type": "code",
   "execution_count": 36,
   "metadata": {},
   "outputs": [
    {
     "name": "stdout",
     "output_type": "stream",
     "text": [
      "['Craig', 'Jenny', 'Kevin', 'Niklas']\n"
     ]
    }
   ],
   "source": [
    "z = ('Kevin', 'Niklas', 'Jenny', 'Craig')\n",
    "print(sorted(z))"
   ]
  }
 ],
 "metadata": {
  "kernelspec": {
   "display_name": "Python 3",
   "language": "python",
   "name": "python3"
  },
  "language_info": {
   "codemirror_mode": {
    "name": "ipython",
    "version": 3
   },
   "file_extension": ".py",
   "mimetype": "text/x-python",
   "name": "python",
   "nbconvert_exporter": "python",
   "pygments_lexer": "ipython3",
   "version": "3.8.1"
  }
 },
 "nbformat": 4,
 "nbformat_minor": 4
}
