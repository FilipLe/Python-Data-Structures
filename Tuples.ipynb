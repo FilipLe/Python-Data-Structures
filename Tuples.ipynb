{
 "cells": [
  {
   "cell_type": "markdown",
   "metadata": {},
   "source": [
    "# <code style = \"color:blue\">Intro to Python Data Structures</code>\n",
    "© Nguyen Le, 2021."
   ]
  },
  {
   "cell_type": "markdown",
   "metadata": {},
   "source": [
    "## <code style=\"background:white; color:red\"> TUPLES INTRO</code>\n",
    "****"
   ]
  },
  {
   "cell_type": "markdown",
   "metadata": {},
   "source": [
    " - Tuples are like arrays\n",
    " - Tuples are used to store multiple items in a single variable.\n",
    " - Tuples, however, are <b>immutable</b> (can't add/change)\n",
    " - Tuples are ordered\n",
    " - Useful for fixed data\n",
    " - Faster than Lists\n",
    " - Sequence Type\n",
    " - Can be recognized by (&ensp;) brackets"
   ]
  },
  {
   "cell_type": "code",
   "execution_count": 1,
   "metadata": {},
   "outputs": [],
   "source": [
    "testTuple = ('Joe', 'Jake', 'Dylan')"
   ]
  },
  {
   "cell_type": "markdown",
   "metadata": {},
   "source": [
    "##### About Tuple Items"
   ]
  },
  {
   "cell_type": "markdown",
   "metadata": {},
   "source": [
    "- Ordered\n",
    "    - Items have a defined order, and that order will not change\n",
    "<br><br>\n",
    "- Unchangeable\n",
    "    - We cannot change, add or remove items after the tuple has been created\n",
    "<br><br>\n",
    "- Allow duplicate values\n",
    "    - Since tuple are indexed, tuples can have items with the same value\n",
    "<br><br>\n",
    "- Indexed. 1st item in tuple has index [<code style = \"background:gray, color:red\">0</code>], 2nd item has index [<code style = \"background:gray, color:red\">1</code>], etc."
   ]
  },
  {
   "cell_type": "code",
   "execution_count": null,
   "metadata": {},
   "outputs": [],
   "source": [
    "fruits = (\"apple\", \"banana\", \"cherry\", \"apple\", \"cherry\")\n",
    "print(fruits)"
   ]
  },
  {
   "cell_type": "markdown",
   "metadata": {},
   "source": [
    "## <code style = \"background:white; color:red\">CONSTRUCTING A TUPLE</code>\n",
    "***\n",
    "**constructors** - creating new tuples.\n",
    "- A tuple is created by placing all the items inside parentheses (&ensp;), separated by commas.\n",
    "    - But the parentheses are optional\n",
    "- A tuple can have any number of items and they may be of different types (integer, float, list, string, etc.)\n",
    "<br><br>\n",
    "<br><b><u>4 types of tuples:</u></b>\n",
    "- Empty tuple\n",
    "- Tuple with 1 type of datatype\n",
    "- Tuple with mixed datatypes\n",
    "- Nested tuple"
   ]
  },
  {
   "cell_type": "code",
   "execution_count": null,
   "metadata": {},
   "outputs": [],
   "source": [
    "# Empty tuple\n",
    "empty_tuple = ()\n",
    "print(empty_tuple)\n",
    "\n",
    "\n",
    "# Tuple having 1 type of datatype\n",
    "single_tuple = (1, 2, 3)\n",
    "print(single_tuple)\n",
    "\n",
    "single_tuple2 = ('a','b','c')\n",
    "print(single_tuple2)\n",
    "\n",
    "\n",
    "# tuple with mixed datatypes\n",
    "mixed_tuple = (1, \"My name is Jeff\", 3.4)\n",
    "print(mixed_tuple)\n",
    "\n",
    "\n",
    "# nested tuple\n",
    "# This example: tuple nested with String, List, and Tuple\n",
    "my_tuple = (\"apple\", [2, 4, 6], (1, 2, 7))\n",
    "print(my_tuple)"
   ]
  },
  {
   "cell_type": "markdown",
   "metadata": {},
   "source": [
    "### Different ways of constructing Tuple:\n",
    "- <b>Using Parentheses</b>\n",
    "- <b>Tuple Packing</b>\n",
    "- <b><code style = \"color:black\">tuple()</code> method</b>"
   ]
  },
  {
   "cell_type": "markdown",
   "metadata": {},
   "source": [
    "### <code style=\"color:green\"><u>Using Parentheses</u></code>\n",
    "- A tuple is created by placing all the items inside parentheses (&ensp;), separated by commas."
   ]
  },
  {
   "cell_type": "code",
   "execution_count": null,
   "metadata": {},
   "outputs": [],
   "source": [
    "# Creating empty tuple\n",
    "x = ()\n",
    "\n",
    "# Creating tuple by putting values separated by commas between parentheses \n",
    "x = (1, 2, 3)"
   ]
  },
  {
   "cell_type": "markdown",
   "metadata": {},
   "source": [
    "#### <code style = \"background:yellow; color:red\">CAUTION!</code>\n",
    "<u>CREATING TUPLE WITH 1 ELEMENT</u>\n",
    "- We need comma <b><u>right after the element</u></b> to indicate that it is a tuple"
   ]
  },
  {
   "cell_type": "code",
   "execution_count": null,
   "metadata": {},
   "outputs": [],
   "source": [
    "# No comma --> becomes a string/integer\n",
    "my_tuple = (\"hello\")\n",
    "print(type(my_tuple))  \n",
    "\n",
    "# <class 'str'>\n",
    "\n",
    "\n",
    "\n",
    "# With comma --> becomes a tuple\n",
    "my_tuple = (\"hello\",)\n",
    "print(type(my_tuple))  \n",
    "\n",
    "# <class 'tuple'>"
   ]
  },
  {
   "cell_type": "markdown",
   "metadata": {},
   "source": [
    "### <code style = \"color:green\"><u>Tuple Packing</u></code>\n",
    "- The comma tells Python that it's a tuple\n",
    "- Creating tuple using only commas"
   ]
  },
  {
   "cell_type": "code",
   "execution_count": null,
   "metadata": {},
   "outputs": [],
   "source": [
    "x = 1, 2, 3\n",
    "x = 2,    "
   ]
  },
  {
   "cell_type": "markdown",
   "metadata": {},
   "source": [
    "### <code style=\"color:green\"><u>Using</u><code style = \"background:gray, color:red\">tuple()</code><u> method to convert list to tuple\n",
    "- You can use the <code style = \"background:gray, color:red\">tuple()</code> method to convert a list to tuple"
   ]
  },
  {
   "cell_type": "code",
   "execution_count": null,
   "metadata": {},
   "outputs": [],
   "source": [
    "my_list = [2, 4, 6]\n",
    "x = tuple(my_list)"
   ]
  },
  {
   "cell_type": "markdown",
   "metadata": {},
   "source": [
    "## <code style = \"background:white; color:red\">ACCESSING ITEMS IN A TUPLE</code>\n",
    "***\n",
    "- <b>Indexing</b>\n",
    "- <b>Negative indexing</b>\n",
    "- <b>Slicing</b>\n",
    "- <b>Negative slicing</b>"
   ]
  },
  {
   "cell_type": "markdown",
   "metadata": {},
   "source": [
    "### <code style=\"color:green\"><u>Indexing</u></code>\n",
    "- You can access tuple items by referring to the index number, inside square brackets <code style=\"color:black\">[&ensp;]</code>\n",
    "\n",
    "- Indexing starts with <code style=\"color:black\">0</code> for the first element\n",
    "\n",
    "- The last index is <code style=\"color:black\">no. of elements - 1</code>\n",
    "<br><br>\n",
    "\n",
    "    - E.g., a tuple having <code style=\"color:black\">6</code> elements will have indices from <code style=\"color:black\">0 to 5</code>\n",
    "<br><br>\n",
    "\n",
    "    - Trying to access an index outside of the tuple index range(6,7,... in this example) will raise an <code style=\"color:black\">IndexError</code>\n",
    "<br><br>\n",
    "\n",
    "- The index must be an integer, so we cannot use float or other types. This will result in <code style=\"color:black\">TypeError</code>"
   ]
  },
  {
   "cell_type": "code",
   "execution_count": null,
   "metadata": {},
   "outputs": [],
   "source": [
    "# a tuple \n",
    "favorite_fruit = ('b','a','n','a','n','a')\n",
    "\n",
    "\n",
    "'''ask program to output 1st element'''\n",
    "print(favorite_fruit[0])\n",
    "#'b'\n",
    "\n",
    "\n",
    "\n",
    "'''ask program to output 3rd element'''\n",
    "print(favorite_fruit[2])\n",
    "#'n'\n",
    "\n",
    "\n",
    "\n",
    "'''ask program to output 6th element'''\n",
    "print(favorite_fruit[5])\n",
    "#'a'\n",
    "\n",
    "\n",
    "\n",
    "'''ask program to output 8th element'''\n",
    "print(favorite_fruit[7])\n",
    "#IndexError: list index out of range\n",
    "\n",
    "\n",
    "\n",
    "'''ask program to output element position 3.0'''\n",
    "print(favorite_fruit[2.0])\n",
    "#TypeError: list indices must be integers, not float"
   ]
  },
  {
   "cell_type": "markdown",
   "metadata": {},
   "source": [
    "### <code style=\"color:green\"><u>Negative Indexing</u></code>\n",
    "- <b>Negative indexing means start from the end\n",
    "- <b><code style=\"color:purple\">-1</code> refers to the <u>last</u> item\n",
    "- <b><code style=\"color:purple\">-2</code> refers to the <u>second last</u> item\n",
    "- <b>..."
   ]
  },
  {
   "cell_type": "code",
   "execution_count": null,
   "metadata": {},
   "outputs": [],
   "source": [
    "# a tuple \n",
    "favorite_fruit = ('b','a','n','a','n','a')\n",
    "\n",
    "'''ask program to output last element'''\n",
    "print(favorite_fruit[-1])\n",
    "#'a'\n",
    "\n",
    "\n",
    "'''ask program to output second last element'''\n",
    "print(favorite_fruit[-2])\n",
    "#'n'"
   ]
  },
  {
   "cell_type": "markdown",
   "metadata": {},
   "source": [
    "### <code style=\"color:green\"><u>Slicing</u></code>\n",
    "- You can specify a range of indexes by specifying where to start and where to end the range.\n",
    "<br><br>\n",
    "- When specifying a range, the return value will be a new tuple with the specified items.\n",
    "<br><br>\n",
    "Format: <code style = \"color:red\">tuple[start:end]</code>\n",
    "<br><br>\n",
    "    - <code style = \"color:red\">start</code> = start of range (<code style = \"background:yellow\">included</code>)\n",
    "    - <code style = \"color:red\">end</code> = end of range (<code style = \"background:yellow\">not included</code>)"
   ]
  },
  {
   "cell_type": "code",
   "execution_count": null,
   "metadata": {},
   "outputs": [],
   "source": [
    "'''The search will start at index 2 (included) and end at index 5 (not included)'''\n",
    "\n",
    "my_tuple = ('s','a','n','d','w','i','c','h')\n",
    "print(my_tuple[2:5])\n",
    "\n",
    "# ('n','d','w')"
   ]
  },
  {
   "cell_type": "markdown",
   "metadata": {},
   "source": [
    "Format: <code style = \"color:red\">tuple[:end]</code>\n",
    "    - By leaving out the start value\n",
    "        - the range will start at the first item:"
   ]
  },
  {
   "cell_type": "code",
   "execution_count": null,
   "metadata": {},
   "outputs": [],
   "source": [
    "'''The search will start at index 0 (included) and end at index 4 (not included)'''\n",
    "\n",
    "my_tuple = ('s','a','n','d','w','i','c','h')\n",
    "print(my_tuple[:4])\n",
    "\n",
    "# ('s','a','n','d')"
   ]
  },
  {
   "cell_type": "markdown",
   "metadata": {},
   "source": [
    "Format: <code style = \"color:red\">tuple[start:]</code>\n",
    "    - By leaving out the end value:\n",
    "        - the range will go on to the end of the list:"
   ]
  },
  {
   "cell_type": "code",
   "execution_count": null,
   "metadata": {},
   "outputs": [],
   "source": [
    "''' The search returns the items from index 2 ('n') to the end (index 7 'h') '''\n",
    "\n",
    "my_tuple = ('s','a','n','d','w','i','c','h')\n",
    "print(my_tuple[2:])\n",
    "\n",
    "# ('n','d','w','i','c','h')"
   ]
  },
  {
   "cell_type": "markdown",
   "metadata": {},
   "source": [
    "Format: <code style = \"color:red\">tuple[:]</code>\n",
    "    - Leaving out both the beginning and end value:\n",
    "        - the range will go from the beginning to the end of the list:"
   ]
  },
  {
   "cell_type": "code",
   "execution_count": null,
   "metadata": {},
   "outputs": [],
   "source": [
    "my_tuple = ('s','a','n','d','w','i','c','h')\n",
    "print(my_tuple[:])\n",
    "\n",
    "# ('s','a','n','d','w','i','c','h')"
   ]
  },
  {
   "cell_type": "markdown",
   "metadata": {},
   "source": [
    "### <code style=\"color:green\"><u>Negative Slicing</u></code>\n",
    "- <b>Negative indexing means starting from the end of the tuple.\n",
    "- <b><code style=\"color:purple\">-1</code> refers to the <u>last</u> item\n",
    "- <b><code style=\"color:purple\">-2</code> refers to the <u>second last</u> item\n",
    "- <b>etc..."
   ]
  },
  {
   "cell_type": "code",
   "execution_count": null,
   "metadata": {},
   "outputs": [],
   "source": [
    "''' The search returns the items from index -4 (included) to index -1 (excluded) '''\n",
    "\n",
    "fruits = (\"apple\", \"banana\", \"cherry\", \"orange\", \"kiwi\", \"melon\", \"mango\")\n",
    "print(fruits[-4:-1])\n",
    "\n",
    "# ('orange', 'kiwi', 'melon')"
   ]
  },
  {
   "cell_type": "markdown",
   "metadata": {},
   "source": [
    "## <code style = \"background:white; color:red\">UPDATING A TUPLE</code>\n",
    "***\n",
    "• Once a tuple is created, you cannot change its values. \n",
    "<br>• Tuples are <code style = \"background:yellow\">immutable</code> (unchangeable)\n",
    "<br>• You cannot change, add, or remove items once the tuple is created\n",
    "<br>• <code style=\"background:yellow\">But</code>, there are ways to <code style=\"background:yellow\">work around it</code> \n",
    "<br><br>\n",
    "<u><code style=\"background:white; color:purple\">2 scenarios where you can work around it:</code></u>\n",
    "- Elements of the tuple are of mutable data type, such as lists\n",
    "- We reassign the tuple\n",
    "- Converting to list and back to tuple"
   ]
  },
  {
   "cell_type": "markdown",
   "metadata": {},
   "source": [
    "### <code style=\"color:green\"><u>Elements of the tuple are of mutable data type</u></code>\n",
    "- The tuple is a nested tuple\n",
    "- Elements of the tuple are of mutable data type, such as lists\n",
    "- If the element is itself a mutable data type like a list, its nested items can be changed."
   ]
  },
  {
   "cell_type": "code",
   "execution_count": null,
   "metadata": {},
   "outputs": [],
   "source": [
    "my_tuple = (4, 2, 3, [6, 5])\n",
    "\n",
    "'''Attempting to change the value of element at index 1 — an integer'''\n",
    "my_tuple[1] = 9\n",
    "print(my_tuple)\n",
    "\n",
    "# TypeError: 'tuple' object does not support item assignment\n",
    "\n",
    "\n",
    "\n",
    "'''Attempting to change the value of element at index 3 — a list'''\n",
    "# item of mutable element can be changed\n",
    "my_tuple[3][0] = 9    \n",
    "print(my_tuple)\n",
    "\n",
    "# Output: (4, 2, 3, [9, 5])"
   ]
  },
  {
   "cell_type": "markdown",
   "metadata": {},
   "source": [
    "### <code style=\"color:green\"><u>Tuple reassignment</u></code>\n",
    "- Tuples can be reassigned"
   ]
  },
  {
   "cell_type": "code",
   "execution_count": null,
   "metadata": {},
   "outputs": [],
   "source": [
    "my_tuple = (4, 2, 3, [6, 5])\n",
    "my_tuple = ('d','a','i','l','y','d','o','s','e','o','f','p','y','t','h','o','n')\n",
    "\n",
    "# Output: ('d','a','i','l','y','d','o','s','e','o','f','p','y','t','h','o','n')\n",
    "\n",
    "print(my_tuple)"
   ]
  },
  {
   "cell_type": "markdown",
   "metadata": {},
   "source": [
    "### <code style=\"color:green\"><u>Converting to/from lists</u></code>\n",
    "<ul>\n",
    "<li>Once a tuple is created, you cannot change its values. \n",
    "<li>Tuples are unchangeable (immutable)\n",
    "<li>But there is a workaround. \n",
    "</ul>\n",
    "<ol>\n",
    "    <u>You can:</u> \n",
    "    <li>convert the tuple into a list\n",
    "    <li>change the list\n",
    "    <li>convert the list back into a tuple.\n"
   ]
  },
  {
   "cell_type": "code",
   "execution_count": null,
   "metadata": {},
   "outputs": [],
   "source": [
    "initial = (\"apple\", \"banana\", \"cherry\")\n",
    "temporary = list(initial)\n",
    "temporary[1] = \"kiwi\"\n",
    "initial = tuple(temporary)\n",
    "\n",
    "print(initial)"
   ]
  },
  {
   "cell_type": "markdown",
   "metadata": {},
   "source": [
    "## <code style = \"background:white; color:red\">ADDING ITEMS TO A TUPLE</code>\n",
    "***\n",
    "- Tuples are <u>immutable</u> (unchangeable)\n",
    "- You cannot change, add, or remove items once the tuple is created\n",
    "<br><br>\n",
    "- <u>But</u>, there is a way to work around it:\n",
    "<ol>\n",
    "    <li>Convert the tuple into a list, add your item(s), and convert it back into a tuple\n",
    "    <li>Adding/concantenating 2 tuples (or <code style=\"color:black\"><u>join</u></code> 2 tuples)\n",
    "    "
   ]
  },
  {
   "cell_type": "markdown",
   "metadata": {},
   "source": [
    "### <code style=\"color:green\"><u>Converting to/from lists</u></code>\n",
    "<ol>\n",
    "    <li>Convert tuple into list\n",
    "    <li>Add new item\n",
    "    <li>Convert back to tuple\n",
    "       "
   ]
  },
  {
   "cell_type": "code",
   "execution_count": null,
   "metadata": {},
   "outputs": [],
   "source": [
    "# initial tuple\n",
    "initial = (\"apple\", \"banana\", \"cherry\")\n",
    "\n",
    "# our tuple in list form\n",
    "temporary = list(initial)\n",
    "\n",
    "# adding new item to the list\n",
    "temporary.append(\"kiwi\")\n",
    "\n",
    "# converting back to tuple using the tuple() method\n",
    "initial = tuple(temporary)\n",
    "\n",
    "print(initial)\n",
    "\n",
    "# Output: (\"apple\", \"banana\", \"cherry\", \"kiwi\")"
   ]
  },
  {
   "cell_type": "markdown",
   "metadata": {},
   "source": [
    "### <code style=\"color:green\"><u>Adding/concatenating (joining)</u></code>\n",
    "- Combining 2 tuples using the <code style=\"color:red\">+</code> operator"
   ]
  },
  {
   "cell_type": "code",
   "execution_count": null,
   "metadata": {},
   "outputs": [],
   "source": [
    "z = ('Kevin', 'Niklas', 'Jenny') + ('Craig',)\n",
    "print(z)\n",
    "\n",
    "# Output: ('Kevin', 'Niklas', 'Jenny', 'Craig')\n",
    "\n",
    "\n",
    "\n",
    "y = (1,2)\n",
    "y += (4,)  \n",
    "print(y)\n",
    "\n",
    "# Output: (1,2,4)\n",
    "\n",
    "\n",
    "\n",
    "tuple1 = (\"a\", \"b\", \"c\")\n",
    "tuple2 = (1, 2, 3)\n",
    "\n",
    "tuple3 = tuple1 + tuple2\n",
    "print(tuple3)\n",
    "\n",
    "# Output: (\"a\", \"b\", \"c\", 1, 2, 3)"
   ]
  },
  {
   "cell_type": "markdown",
   "metadata": {},
   "source": [
    "## <code style = \"background:white; color:red\">DELETING A TUPLE</code>\n",
    "***\n",
    "- We cannot change the elements in a tuple. \n",
    "- It means that we cannot delete or remove items from a tuple.\n",
    "- Deleting a tuple entirely, however, is possible using the keyword <code style=\"color:blue\">del</code>"
   ]
  },
  {
   "cell_type": "markdown",
   "metadata": {},
   "source": [
    "<u><code style=\"background:white; color:purple\">Cannot delete individual items:</code></u>"
   ]
  },
  {
   "cell_type": "code",
   "execution_count": null,
   "metadata": {},
   "outputs": [],
   "source": [
    "my_tuple = ('d','a','i','l','y','d','o','s','e','o','f','p','y','t','h','o','n')\n",
    "del my_tuple[3]\n",
    "\n",
    "# TypeError: 'tuple' object doesn't support item deletion"
   ]
  },
  {
   "cell_type": "markdown",
   "metadata": {},
   "source": [
    "<u><code style=\"background:white; color:purple\">Can delete whole tuple:</code></u>"
   ]
  },
  {
   "cell_type": "code",
   "execution_count": null,
   "metadata": {},
   "outputs": [],
   "source": [
    "my_tuple = ('d','a','i','l','y','d','o','s','e','o','f','p','y','t','h','o','n')\n",
    "del my_tuple\n",
    "\n",
    "print(my_tuple)\n",
    "# NameError: name 'my_tuple' is not defined"
   ]
  },
  {
   "cell_type": "markdown",
   "metadata": {},
   "source": [
    "### <u><code style=\"background:white; color:purple\">But:</code></u>\n",
    "**Tuples are immutable**; however, member objects may be mutable\n",
    "- The tuple is a nested tuple\n",
    "- Elements of the tuple are of mutable data type, such as lists\n",
    "- If the element is itself a mutable data type like a list, its nested items can be changed."
   ]
  },
  {
   "cell_type": "code",
   "execution_count": null,
   "metadata": {},
   "outputs": [],
   "source": [
    "y = ([1, 2], 3)   # a tuple where the first item is a list\n",
    "del(y[0][1])      # delete '2'\n",
    "print(y)          # the list within the tuple is mutable\n",
    "\n",
    "# Output: ([1], 3)"
   ]
  },
  {
   "cell_type": "markdown",
   "metadata": {},
   "source": [
    "## <code style = \"background:white; color:red\">UNPACKING A TUPLE</code>\n",
    "***"
   ]
  },
  {
   "cell_type": "markdown",
   "metadata": {},
   "source": [
    "## <code style = \"background:white; color:red\">ITERATING A TUPLE</code>\n",
    "***"
   ]
  },
  {
   "cell_type": "markdown",
   "metadata": {},
   "source": [
    "## <code style = \"background:white; color:red\">CHECKING MEMBERSHIP OF ITEMS IN A TUPLE</code>\n",
    "***"
   ]
  },
  {
   "cell_type": "markdown",
   "metadata": {},
   "source": [
    "## <code style = \"background:white; color:red\">TUPLE METHODS</code>\n",
    "***"
   ]
  },
  {
   "cell_type": "markdown",
   "metadata": {},
   "source": [
    "## <code style = \"background:white; color:red\">TUPLE BUILT-IN FUNCTIONS</code>\n",
    "***"
   ]
  },
  {
   "cell_type": "markdown",
   "metadata": {},
   "source": [
    "## <code style = \"background:white; color:red\">JOIN TUPLES</code>\n",
    "***"
   ]
  },
  {
   "cell_type": "markdown",
   "metadata": {},
   "source": [
    "#### MULTIPLYING IN A TUPLE\n",
    "***\n",
    "**multiplying** - multiply a sequence using *"
   ]
  },
  {
   "cell_type": "code",
   "execution_count": null,
   "metadata": {},
   "outputs": [],
   "source": [
    "z = (2, 4) * 3\n",
    "print(z)"
   ]
  },
  {
   "cell_type": "markdown",
   "metadata": {},
   "source": [
    "#### CHECKING MEMBERSHIP OF ITEM IN A TUPLE\n",
    "***\n",
    "**checking membership** - test whether an item is or is not in a sequence."
   ]
  },
  {
   "cell_type": "code",
   "execution_count": null,
   "metadata": {},
   "outputs": [],
   "source": [
    "z = ('Kevin', 'Niklas', 'Jenny', 'Craig')\n",
    "print('Niklas' in z)"
   ]
  },
  {
   "cell_type": "markdown",
   "metadata": {},
   "source": [
    "#### CHECKING AMOUNT OF ITEMS IN A TUPLE\n",
    "***\n",
    "**number of items** - count the number of items in a sequence"
   ]
  },
  {
   "cell_type": "code",
   "execution_count": null,
   "metadata": {},
   "outputs": [],
   "source": [
    "z = ('Kevin', 'Niklas', 'Jenny', 'Craig')\n",
    "print(len(z))"
   ]
  },
  {
   "cell_type": "markdown",
   "metadata": {},
   "source": [
    "#### FINDING MINIMUM AND MAXIMUM IN A TUPLE\n",
    "***\n",
    "**minimum** - find the minimum item in a sequence lexicographically.  \n",
    "Alpha or numeric types, but cannot mix types.\n",
    "\n",
    "**maximum** - find the maximum item in a sequence lexicographically.  \n",
    "Alpha or numeric types, but cannot mix types."
   ]
  },
  {
   "cell_type": "code",
   "execution_count": null,
   "metadata": {},
   "outputs": [],
   "source": [
    "#minimum\n",
    "z = ('Kevin', 'Niklas', 'Jenny', 'Craig')\n",
    "print(min(z))"
   ]
  },
  {
   "cell_type": "code",
   "execution_count": null,
   "metadata": {},
   "outputs": [],
   "source": [
    "#maximum\n",
    "z = ('Kevin', 'Niklas', 'Jenny', 'Craig')\n",
    "print(max(z))"
   ]
  },
  {
   "cell_type": "markdown",
   "metadata": {},
   "source": [
    "#### FINDING THE SUM OF ITEMS IN A TUPLE\n",
    "***\n",
    "**sum** - find the sum of items in a sequence.  \n",
    "Entire sequence must be numeric."
   ]
  },
  {
   "cell_type": "code",
   "execution_count": null,
   "metadata": {},
   "outputs": [],
   "source": [
    "z = (50, 4, 7, 19)\n",
    "print(sum(z))"
   ]
  },
  {
   "cell_type": "markdown",
   "metadata": {},
   "source": [
    "#### SORTING ITEMS IN A TUPLE\n",
    "***\n",
    "**sorting** - returns a new list of items in sorted order.  \n",
    "Does not change the original list."
   ]
  },
  {
   "cell_type": "code",
   "execution_count": null,
   "metadata": {},
   "outputs": [],
   "source": [
    "z = ('Kevin', 'Niklas', 'Jenny', 'Craig')\n",
    "print(sorted(z))"
   ]
  },
  {
   "cell_type": "markdown",
   "metadata": {},
   "source": [
    "#### FREQUENCY OF ITEMS IN A TUPLE\n",
    "***\n",
    "**count(item)** - returns count of an item"
   ]
  },
  {
   "cell_type": "code",
   "execution_count": null,
   "metadata": {},
   "outputs": [],
   "source": [
    "z = ('Kevin', 'Niklas', 'Jenny', 'Craig')\n",
    "print(z.count('Kevin'))"
   ]
  },
  {
   "cell_type": "markdown",
   "metadata": {},
   "source": [
    "#### INDEX OF ITEMS IN A TUPLE\n",
    "***\n",
    "**index(item)** - returns the index of the first occurence of an item."
   ]
  },
  {
   "cell_type": "code",
   "execution_count": null,
   "metadata": {},
   "outputs": [],
   "source": [
    "z = ('Kevin', 'Niklas', 'Jenny', 'Craig')\n",
    "print(z.index('Jenny'))"
   ]
  }
 ],
 "metadata": {
  "kernelspec": {
   "display_name": "Python 3",
   "language": "python",
   "name": "python3"
  },
  "language_info": {
   "codemirror_mode": {
    "name": "ipython",
    "version": 3
   },
   "file_extension": ".py",
   "mimetype": "text/x-python",
   "name": "python",
   "nbconvert_exporter": "python",
   "pygments_lexer": "ipython3",
   "version": "3.8.1"
  }
 },
 "nbformat": 4,
 "nbformat_minor": 4
}
