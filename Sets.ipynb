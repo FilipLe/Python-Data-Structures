{
 "cells": [
  {
   "cell_type": "markdown",
   "metadata": {},
   "source": [
    "# Intro to Python Data Structures\n",
    "© Nguyen Le, 2020."
   ]
  },
  {
   "cell_type": "markdown",
   "metadata": {},
   "source": [
    "### SETS\n",
    "****\n",
    "Just like sets in maths:\n",
    "<img src=\"https://files.realpython.com/media/t.8b7abb515ae8.png\" style=\"width:400px\">"
   ]
  },
  {
   "cell_type": "markdown",
   "metadata": {},
   "source": [
    "- <b>Unordered</b>\n",
    "- Unindexed\n",
    "- Items are unique. Sets store non-duplicate items  \n",
    "- Very fast access vs Lists  \n",
    "- Math Set ops (union, intersect)  \n",
    "- Mutable \n",
    "- Recognized by {&ensp;} brackets"
   ]
  },
  {
   "cell_type": "markdown",
   "metadata": {},
   "source": [
    "***\n",
    "#### CREATING SETS"
   ]
  },
  {
   "cell_type": "markdown",
   "metadata": {},
   "source": [
    "****Method 1****"
   ]
  },
  {
   "cell_type": "code",
   "execution_count": 1,
   "metadata": {},
   "outputs": [
    {
     "name": "stdout",
     "output_type": "stream",
     "text": [
      "{'banana', 'strawberry', 'orange', 'apple', 'blueberry'}\n",
      "{'banana', 'strawberry', 'orange', 'apple', 'blueberry'}\n"
     ]
    }
   ],
   "source": [
    "#Turning a list into a set\n",
    "myset = set(['apple', 'banana', 'orange', 'strawberry', 'blueberry'])\n",
    "print(myset)\n",
    "\n",
    "#The code above is the equivalent of:\n",
    "fruits = ['apple', 'banana', 'orange', 'strawberry', 'blueberry']\n",
    "myset = set(fruits)\n",
    "print(myset)"
   ]
  },
  {
   "cell_type": "markdown",
   "metadata": {},
   "source": [
    "****Method 2****"
   ]
  },
  {
   "cell_type": "code",
   "execution_count": 2,
   "metadata": {},
   "outputs": [
    {
     "name": "stdout",
     "output_type": "stream",
     "text": [
      "{'banana', 'strawberry', 'orange', 'apple', 'blueberry'}\n"
     ]
    }
   ],
   "source": [
    "myset = {'apple', 'banana', 'orange', 'strawberry', 'blueberry'}\n",
    "print(myset)"
   ]
  },
  {
   "cell_type": "markdown",
   "metadata": {},
   "source": [
    "***\n",
    "#### ACCESSING ITEMS\n",
    "- You cannot access items in a set by referring to an index, since sets are unordered the items has no index.\n",
    "\n",
    "- But you can loop through the set items using a <u><b><i>for</i></b></u> loop, or ask if a specified value is present in a set, by using the <u><b><i>in</i></b></u> keyword."
   ]
  },
  {
   "cell_type": "markdown",
   "metadata": {},
   "source": [
    "****Loop through the set and print the items****"
   ]
  },
  {
   "cell_type": "code",
   "execution_count": 3,
   "metadata": {},
   "outputs": [
    {
     "name": "stdout",
     "output_type": "stream",
     "text": [
      "{'banana', 'strawberry', 'orange', 'apple', 'blueberry'}\n",
      "banana\n",
      "strawberry\n",
      "orange\n",
      "apple\n",
      "blueberry\n"
     ]
    }
   ],
   "source": [
    "myset = {'apple', 'banana', 'orange', 'strawberry', 'blueberry'}\n",
    "print(myset)\n",
    "for x in myset:\n",
    "  print(x)"
   ]
  },
  {
   "cell_type": "markdown",
   "metadata": {},
   "source": [
    "****Checking item's membership in the set****"
   ]
  },
  {
   "cell_type": "code",
   "execution_count": 4,
   "metadata": {},
   "outputs": [
    {
     "name": "stdout",
     "output_type": "stream",
     "text": [
      "True\n"
     ]
    }
   ],
   "source": [
    "myset = {'apple', 'banana', 'orange', 'strawberry', 'blueberry'}\n",
    "print('apple' in myset)"
   ]
  },
  {
   "cell_type": "markdown",
   "metadata": {},
   "source": [
    "***\n",
    "#### GET LENGTH OF SET\n",
    "To determine how many items a set has, use the len() method."
   ]
  },
  {
   "cell_type": "code",
   "execution_count": 5,
   "metadata": {},
   "outputs": [
    {
     "name": "stdout",
     "output_type": "stream",
     "text": [
      "5\n"
     ]
    }
   ],
   "source": [
    "myset = {'apple', 'banana', 'orange', 'strawberry', 'blueberry'}\n",
    "print(len(myset))"
   ]
  },
  {
   "cell_type": "markdown",
   "metadata": {},
   "source": [
    "***\n",
    "#### REMOVE ITEMS FROM SET\n",
    "****Method 1****\n",
    "- remove(&ensp;) method"
   ]
  },
  {
   "cell_type": "code",
   "execution_count": 6,
   "metadata": {},
   "outputs": [
    {
     "name": "stdout",
     "output_type": "stream",
     "text": [
      "{'banana', 'strawberry', 'orange', 'blueberry'}\n"
     ]
    }
   ],
   "source": [
    "myset = {'apple', 'banana', 'orange', 'strawberry', 'blueberry'}\n",
    "myset.remove('apple')\n",
    "print(myset)"
   ]
  },
  {
   "cell_type": "markdown",
   "metadata": {},
   "source": [
    "<b>NOTE:</b> If the item to remove does not exist, <b><u><i>remove()</i></u></b> will raise an error."
   ]
  },
  {
   "cell_type": "markdown",
   "metadata": {},
   "source": [
    "****Method 2****\n",
    "- discard(&ensp;) method"
   ]
  },
  {
   "cell_type": "code",
   "execution_count": 7,
   "metadata": {},
   "outputs": [
    {
     "name": "stdout",
     "output_type": "stream",
     "text": [
      "{'banana', 'strawberry', 'orange', 'blueberry'}\n"
     ]
    }
   ],
   "source": [
    "myset = {'apple', 'banana', 'orange', 'strawberry', 'blueberry'}\n",
    "myset.discard('apple')\n",
    "print(myset)"
   ]
  },
  {
   "cell_type": "markdown",
   "metadata": {},
   "source": [
    "<b>NOTE:</b> If the item to remove does not exist, <b><u><i>discard()</i></u></b> will NOT raise an error."
   ]
  },
  {
   "cell_type": "markdown",
   "metadata": {},
   "source": [
    "****Method 3****\n",
    "- You can also use the pop(&ensp;), method to remove an item, but this method will remove the last item. "
   ]
  },
  {
   "cell_type": "code",
   "execution_count": 8,
   "metadata": {},
   "outputs": [
    {
     "name": "stdout",
     "output_type": "stream",
     "text": [
      "banana\n",
      "{'strawberry', 'orange', 'apple', 'blueberry'}\n"
     ]
    }
   ],
   "source": [
    "myset = {'apple', 'banana', 'orange', 'strawberry', 'blueberry'}\n",
    "x = myset.pop()\n",
    "print(x) #removed item\n",
    "print(myset) #the set after removal"
   ]
  },
  {
   "cell_type": "code",
   "execution_count": 9,
   "metadata": {},
   "outputs": [
    {
     "name": "stdout",
     "output_type": "stream",
     "text": [
      "banana\n",
      "{'strawberry', 'orange', 'apple', 'blueberry'}\n"
     ]
    }
   ],
   "source": [
    "myset = {'apple', 'banana', 'orange', 'strawberry', 'blueberry'}\n",
    "x = myset.pop()\n",
    "print(x) #removed item\n",
    "print(myset) #the set after removal"
   ]
  },
  {
   "cell_type": "markdown",
   "metadata": {},
   "source": [
    "<b>NOTE:</b> Sets are <b>unordered</b>, so you <b>will not</b> know what item that gets removed."
   ]
  },
  {
   "cell_type": "markdown",
   "metadata": {},
   "source": [
    "****Method 4****\n",
    "- The clear(&ensp;) method empties the set:"
   ]
  },
  {
   "cell_type": "code",
   "execution_count": 10,
   "metadata": {},
   "outputs": [
    {
     "name": "stdout",
     "output_type": "stream",
     "text": [
      "set()\n"
     ]
    }
   ],
   "source": [
    "myset = {'apple', 'banana', 'orange', 'strawberry', 'blueberry'}\n",
    "myset.clear()\n",
    "print(myset)"
   ]
  },
  {
   "cell_type": "markdown",
   "metadata": {},
   "source": [
    "****Method 5****\n",
    "- The <b><i>del</i></b> keyword will delete the set completely:"
   ]
  },
  {
   "cell_type": "code",
   "execution_count": 11,
   "metadata": {},
   "outputs": [
    {
     "ename": "NameError",
     "evalue": "name 'myset' is not defined",
     "output_type": "error",
     "traceback": [
      "\u001b[0;31m---------------------------------------------------------------------------\u001b[0m",
      "\u001b[0;31mNameError\u001b[0m                                 Traceback (most recent call last)",
      "\u001b[0;32m<ipython-input-11-e9834bd75ff6>\u001b[0m in \u001b[0;36m<module>\u001b[0;34m\u001b[0m\n\u001b[1;32m      1\u001b[0m \u001b[0mmyset\u001b[0m \u001b[0;34m=\u001b[0m \u001b[0;34m{\u001b[0m\u001b[0;34m'apple'\u001b[0m\u001b[0;34m,\u001b[0m \u001b[0;34m'banana'\u001b[0m\u001b[0;34m,\u001b[0m \u001b[0;34m'orange'\u001b[0m\u001b[0;34m,\u001b[0m \u001b[0;34m'strawberry'\u001b[0m\u001b[0;34m,\u001b[0m \u001b[0;34m'blueberry'\u001b[0m\u001b[0;34m}\u001b[0m\u001b[0;34m\u001b[0m\u001b[0;34m\u001b[0m\u001b[0m\n\u001b[1;32m      2\u001b[0m \u001b[0;32mdel\u001b[0m \u001b[0mmyset\u001b[0m\u001b[0;34m\u001b[0m\u001b[0;34m\u001b[0m\u001b[0m\n\u001b[0;32m----> 3\u001b[0;31m \u001b[0mprint\u001b[0m\u001b[0;34m(\u001b[0m\u001b[0mmyset\u001b[0m\u001b[0;34m)\u001b[0m\u001b[0;34m\u001b[0m\u001b[0;34m\u001b[0m\u001b[0m\n\u001b[0m",
      "\u001b[0;31mNameError\u001b[0m: name 'myset' is not defined"
     ]
    }
   ],
   "source": [
    "myset = {'apple', 'banana', 'orange', 'strawberry', 'blueberry'}\n",
    "del myset\n",
    "print(myset)"
   ]
  },
  {
   "cell_type": "markdown",
   "metadata": {},
   "source": [
    "***\n",
    "#### CHANGING ITEMS\n",
    "Once a set is created, you cannot change its items. However, you can add items"
   ]
  },
  {
   "cell_type": "markdown",
   "metadata": {},
   "source": [
    "***\n",
    "#### ADDING ITEMS"
   ]
  },
  {
   "cell_type": "markdown",
   "metadata": {},
   "source": [
    "- To add one item to a set use the add() method.\n",
    "- To add more than one item to a set use the update() method.\n",
    "\n",
    "****Adding one item****"
   ]
  },
  {
   "cell_type": "code",
   "execution_count": 12,
   "metadata": {},
   "outputs": [
    {
     "name": "stdout",
     "output_type": "stream",
     "text": [
      "{'mango', 'banana', 'strawberry', 'orange', 'apple', 'blueberry'}\n"
     ]
    }
   ],
   "source": [
    "myset = {'apple', 'banana', 'orange', 'strawberry', 'blueberry'}\n",
    "myset.add('mango')\n",
    "print(myset)"
   ]
  },
  {
   "cell_type": "markdown",
   "metadata": {},
   "source": [
    "****Adding more than one item****"
   ]
  },
  {
   "cell_type": "code",
   "execution_count": 13,
   "metadata": {},
   "outputs": [
    {
     "name": "stdout",
     "output_type": "stream",
     "text": [
      "{'mango', 'banana', 'strawberry', 'orange', 'apple', 'blueberry', 'grapefruit', 'durian'}\n"
     ]
    }
   ],
   "source": [
    "myset = {'apple', 'banana', 'orange', 'strawberry', 'blueberry'}\n",
    "myset.update(['mango','grapefruit','durian'])\n",
    "print(myset)"
   ]
  },
  {
   "cell_type": "markdown",
   "metadata": {},
   "source": [
    "***\n",
    "#### SET OPERATIONS"
   ]
  },
  {
   "cell_type": "markdown",
   "metadata": {},
   "source": [
    "****Set Mathematical Operations**** \n",
    "<img src=\"https://vignette.wikia.nocookie.net/math-physics-problems/images/e/eb/And_or.jpg/revision/latest/scale-to-width-down/340?cb=20180717052711\">\n",
    "- intersection (AND): set1 & set2\n",
    "<br>→In Venn Diagrams: set1 ∩ set2\n",
    "<br>→Common elements in the Venn Diagram\n",
    "<br>\n",
    "\n",
    "- union (OR): set1 | set2  \n",
    "→In Venn Diagrams: set1 ∪ set2\n",
    "→All of the elements in the Venn Diagram, not duplicates\n",
    "<br>\n",
    "<br>\n",
    "\n",
    "- symmetric difference (XOR): set1 ^ set2 \n",
    "<img src=\"https://useruploads.socratic.org/SA7KZj9Rr6feGHQJZspp_symmetric%20difference.png\">\n",
    "<br>\n",
    "<br>\n",
    "\n",
    "- difference (in set1 but not set2): set1 - set2\n",
    "<img src=\"https://media.geeksforgeeks.org/wp-content/cdn-uploads/set-difference.jpg\" style=\"width:300px\">\n",
    "<br>\n",
    "<br>\n",
    "\n",
    "- subset (set2 contains set1): set1 <= set2 \n",
    "→Every element in set1 is in set2\n",
    "<img src=\"https://www.mathsisfun.com/sets/images/subset.svg\">\n",
    "<br>\n",
    "<br>\n",
    "\n",
    "- superset (set1 contains set2): set1 >= set2\n",
    "<img src=\"https://i.ytimg.com/vi/XCYE8A-PfJs/maxresdefault.jpg\" style=\"width:300px\">\n",
    "<br>\n",
    "<br>\n",
    "\n",
    "- disjoint (set1 and set2 have no common elements): There is operator version of disjoint\n",
    "<img src=\"https://qph.fs.quoracdn.net/main-qimg-5f0c095f4d5ee9105dfcd88e764ab9ac.webp\" style=\"width:300px\">\n",
    "\n",
    "\n",
    "***In Python:***\n",
    "<br>intersection (AND): set1 & set2  \n",
    "union (OR): set1 | set2  \n",
    "symmetric difference (XOR): set1 ^ set2  \n",
    "difference (in set1 but not set2): set1 - set2  \n",
    "subset (set2 contains set1): set1 <= set2  \n",
    "superset (set1 contains set2): set1 >= set2\n",
    "disjoint (set1 and set2 have no common elements): There is operator version of disjoint"
   ]
  },
  {
   "cell_type": "code",
   "execution_count": 14,
   "metadata": {},
   "outputs": [
    {
     "name": "stdout",
     "output_type": "stream",
     "text": [
      "{3}\n",
      "{1, 2, 3, 4, 5}\n",
      "{1, 2, 4, 5}\n",
      "{1, 2}\n",
      "False\n",
      "False\n"
     ]
    }
   ],
   "source": [
    "#Method 1: Using operators\n",
    "set1 = {1, 2, 3}\n",
    "set2 = {3, 4, 5}\n",
    "print(set1 & set2)\n",
    "print(set1 | set2)\n",
    "print(set1 ^ set2)\n",
    "print(set1 - set2)\n",
    "print(set1 <= set2)\n",
    "print(set1 >= set2)"
   ]
  },
  {
   "cell_type": "code",
   "execution_count": 15,
   "metadata": {},
   "outputs": [
    {
     "name": "stdout",
     "output_type": "stream",
     "text": [
      "{3}\n",
      "{1, 2, 3, 4, 5}\n",
      "{1, 2, 4, 5}\n",
      "{1, 2}\n",
      "False\n",
      "False\n"
     ]
    }
   ],
   "source": [
    "#Method 2: Using keywords\n",
    "set1 = {1, 2, 3}\n",
    "set2 = {3, 4, 5}\n",
    "print(set1.intersection(set2))\n",
    "print(set1.union(set2))\n",
    "print(set1.symmetric_difference(set2))\n",
    "print(set1.difference(set2))\n",
    "print(set1.issubset(set2))\n",
    "print(set1.issuperset(set2))"
   ]
  }
 ],
 "metadata": {
  "kernelspec": {
   "display_name": "Python 3",
   "language": "python",
   "name": "python3"
  },
  "language_info": {
   "codemirror_mode": {
    "name": "ipython",
    "version": 3
   },
   "file_extension": ".py",
   "mimetype": "text/x-python",
   "name": "python",
   "nbconvert_exporter": "python",
   "pygments_lexer": "ipython3",
   "version": "3.8.1"
  }
 },
 "nbformat": 4,
 "nbformat_minor": 4
}
