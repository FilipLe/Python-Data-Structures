{
 "cells": [
  {
   "cell_type": "markdown",
   "metadata": {},
   "source": [
    "# Intro to Python Data Structures\n",
    "© Nguyen Le, 2020."
   ]
  },
  {
   "cell_type": "markdown",
   "metadata": {},
   "source": [
    "### DICTIONARIES \n",
    "****"
   ]
  },
  {
   "cell_type": "markdown",
   "metadata": {},
   "source": [
    "- Key/Value pairs\n",
    "- Associative array, like Java HashMap\n",
    "- Dicts are Unordered, changeable, and indexed \n",
    "- Can be recognized by { } brackets"
   ]
  },
  {
   "cell_type": "code",
   "execution_count": 1,
   "metadata": {},
   "outputs": [
    {
     "name": "stdout",
     "output_type": "stream",
     "text": [
      "{'brand': 'BMW', 'model': 'M5 Competition LCI', 'year': 2021}\n",
      "BMW\n",
      "BMW\n"
     ]
    }
   ],
   "source": [
    "#example\n",
    "thisdict = {\n",
    "  \"brand\": \"BMW\",\n",
    "  \"model\": \"M5 Competition LCI\",\n",
    "  \"year\": 2021\n",
    "}\n",
    "print(thisdict)\n",
    "print(thisdict[\"brand\"])\n",
    "print(thisdict.get(\"brand\"))"
   ]
  },
  {
   "cell_type": "markdown",
   "metadata": {},
   "source": [
    "***\n",
    "### Defining a Dictionary"
   ]
  },
  {
   "cell_type": "markdown",
   "metadata": {},
   "source": [
    " - Dict consists of a collection of key-value pairs\n",
    " - Each key-value pair maps the key to its associated value"
   ]
  },
  {
   "cell_type": "markdown",
   "metadata": {},
   "source": [
    "****Method 1****\n",
    "<br>You can define a dictionary by enclosing a comma-separated list of key-value pairs in curly braces '{ &ensp; }'. <br>A colon ':' separates each key from its associated value:"
   ]
  },
  {
   "cell_type": "raw",
   "metadata": {},
   "source": [
    "d = {\n",
    "    <key>: <value>,\n",
    "    <key>: <value>,\n",
    "      .\n",
    "      .\n",
    "      .\n",
    "    <key>: <value>\n",
    "}"
   ]
  },
  {
   "cell_type": "markdown",
   "metadata": {},
   "source": [
    "The dictionary below maps a location to the name of its corresponding UEFA Champions League team:"
   ]
  },
  {
   "cell_type": "code",
   "execution_count": 2,
   "metadata": {},
   "outputs": [],
   "source": [
    "#Method 1 of defining a dictionary\n",
    "uefadict = {\n",
    "  \"Munich\": \"FC Bayern Munich\",\n",
    "  \"Dortmund\": \"Borussia Dortmund\",\n",
    "  \"Madrid\": \"Real Madrid C.F.\",\n",
    "  \"Naples\":\"S.S.C. Napoli\"\n",
    "}\n"
   ]
  },
  {
   "cell_type": "markdown",
   "metadata": {},
   "source": [
    "\n",
    "\n",
    "****Method 2****\n",
    "<br>You can also construct a dictionary with the built-in dict() function. \n",
    "<br>The argument to dict() should be a sequence of key-value pairs. A list of tuples works well for this:"
   ]
  },
  {
   "cell_type": "raw",
   "metadata": {},
   "source": [
    "d = dict([\n",
    "    (<key>, <value>),\n",
    "    (<key>, <value),\n",
    "      .\n",
    "      .\n",
    "      .\n",
    "    (<key>, <value>)\n",
    "])"
   ]
  },
  {
   "cell_type": "markdown",
   "metadata": {},
   "source": [
    "uefadict can then also be defined the following way:"
   ]
  },
  {
   "cell_type": "code",
   "execution_count": 3,
   "metadata": {},
   "outputs": [],
   "source": [
    "#Method 2 of defining a dictionary\n",
    "uefadict = dict([\n",
    "    ('Munich', 'FC Bayern Munich'),\n",
    "    ('Dortmund', 'Borussia Dortmund'),\n",
    "    ('Madrid', 'Real Madrid C.F.'),\n",
    "    ('Naples', 'S.S.C. Napoli')\n",
    "])"
   ]
  },
  {
   "cell_type": "markdown",
   "metadata": {},
   "source": [
    "***\n",
    "### Accessing Dict Values"
   ]
  },
  {
   "cell_type": "markdown",
   "metadata": {},
   "source": [
    "##### Method 1\n",
    "Referring to its key name, inside square brackets:"
   ]
  },
  {
   "cell_type": "code",
   "execution_count": 4,
   "metadata": {},
   "outputs": [
    {
     "name": "stdout",
     "output_type": "stream",
     "text": [
      "FC Bayern Munich\n"
     ]
    }
   ],
   "source": [
    "uefadict = {\n",
    "  \"Munich\": \"FC Bayern Munich\",\n",
    "  \"Dortmund\": \"Borussia Dortmund\",\n",
    "  \"Madrid\": \"Real Madrid C.F.\",\n",
    "  \"Naples\":\"S.S.C. Napoli\"\n",
    "}\n",
    "\n",
    "x = uefadict[\"Munich\"]\n",
    "print(x)"
   ]
  },
  {
   "cell_type": "markdown",
   "metadata": {},
   "source": [
    "##### Method 2\n",
    "Method called get() "
   ]
  },
  {
   "cell_type": "code",
   "execution_count": 5,
   "metadata": {},
   "outputs": [
    {
     "name": "stdout",
     "output_type": "stream",
     "text": [
      "FC Bayern Munich\n"
     ]
    }
   ],
   "source": [
    "uefadict = {\n",
    "  \"Munich\": \"FC Bayern Munich\",\n",
    "  \"Dortmund\": \"Borussia Dortmund\",\n",
    "  \"Madrid\": \"Real Madrid C.F.\",\n",
    "  \"Naples\":\"S.S.C. Napoli\"\n",
    "}\n",
    "\n",
    "x = uefadict.get(\"Munich\")\n",
    "print(x)"
   ]
  },
  {
   "cell_type": "markdown",
   "metadata": {},
   "source": [
    "***\n",
    "### Accessing Keys and Values in general"
   ]
  },
  {
   "cell_type": "code",
   "execution_count": 6,
   "metadata": {},
   "outputs": [
    {
     "name": "stdout",
     "output_type": "stream",
     "text": [
      "dict_keys(['Munich', 'Dortmund', 'Madrid'])\n",
      "dict_values(['FC Bayern Munich', 'Borussia Dortmund', 'Real Madrid C.F.'])\n",
      "dict_items([('Munich', 'FC Bayern Munich'), ('Dortmund', 'Borussia Dortmund'), ('Madrid', 'Real Madrid C.F.')])\n"
     ]
    }
   ],
   "source": [
    "uefadict = {\n",
    "  \"Munich\": \"FC Bayern Munich\",\n",
    "  \"Dortmund\": \"Borussia Dortmund\",\n",
    "  \"Madrid\": \"Real Madrid C.F.\",\n",
    "}\n",
    "print(uefadict.keys())\n",
    "print(uefadict.values())\n",
    "print(uefadict.items())      # key-value pairs"
   ]
  },
  {
   "cell_type": "markdown",
   "metadata": {},
   "source": [
    "***\n",
    "### Adding Items"
   ]
  },
  {
   "cell_type": "markdown",
   "metadata": {},
   "source": [
    "Adding an item to the dictionary is done by using a new index key and assigning a value to it:"
   ]
  },
  {
   "cell_type": "code",
   "execution_count": 7,
   "metadata": {},
   "outputs": [
    {
     "name": "stdout",
     "output_type": "stream",
     "text": [
      "{'Munich': 'FC Bayern Munich', 'Dortmund': 'Borussia Dortmund', 'Madrid': 'Real Madrid C.F.', 'Naples': 'S.S.C. Napoli', 'Liverpool': 'Liverpool F.C.'}\n"
     ]
    }
   ],
   "source": [
    "uefadict = {\n",
    "  \"Munich\": \"FC Bayern Munich\",\n",
    "  \"Dortmund\": \"Borussia Dortmund\",\n",
    "  \"Madrid\": \"Real Madrid C.F.\",\n",
    "  \"Naples\":\"S.S.C. Napoli\"\n",
    "}\n",
    "uefadict[\"Liverpool\"] = \"Liverpool F.C.\"\n",
    "print(uefadict)"
   ]
  },
  {
   "cell_type": "markdown",
   "metadata": {},
   "source": [
    "***\n",
    "### Removing Items"
   ]
  },
  {
   "cell_type": "markdown",
   "metadata": {},
   "source": [
    "##### Method 1\n",
    "The pop() method removes the item with the specified key name:"
   ]
  },
  {
   "cell_type": "code",
   "execution_count": 8,
   "metadata": {},
   "outputs": [
    {
     "name": "stdout",
     "output_type": "stream",
     "text": [
      "{'Dortmund': 'Borussia Dortmund', 'Madrid': 'Real Madrid C.F.', 'Naples': 'S.S.C. Napoli'}\n"
     ]
    }
   ],
   "source": [
    "uefadict = {\n",
    "  \"Munich\": \"FC Bayern Munich\",\n",
    "  \"Dortmund\": \"Borussia Dortmund\",\n",
    "  \"Madrid\": \"Real Madrid C.F.\",\n",
    "  \"Naples\":\"S.S.C. Napoli\"\n",
    "}\n",
    "uefadict.pop(\"Munich\")\n",
    "print(uefadict)"
   ]
  },
  {
   "cell_type": "markdown",
   "metadata": {},
   "source": [
    "***\n",
    "##### Method 2\n",
    "The popitem() method removes the last inserted item"
   ]
  },
  {
   "cell_type": "code",
   "execution_count": 9,
   "metadata": {},
   "outputs": [
    {
     "name": "stdout",
     "output_type": "stream",
     "text": [
      "{'Munich': 'FC Bayern Munich', 'Dortmund': 'Borussia Dortmund', 'Madrid': 'Real Madrid C.F.'}\n"
     ]
    }
   ],
   "source": [
    "uefadict = {\n",
    "  \"Munich\": \"FC Bayern Munich\",\n",
    "  \"Dortmund\": \"Borussia Dortmund\",\n",
    "  \"Madrid\": \"Real Madrid C.F.\",\n",
    "  \"Naples\":\"S.S.C. Napoli\"\n",
    "}\n",
    "uefadict.popitem()\n",
    "print(uefadict)"
   ]
  },
  {
   "cell_type": "markdown",
   "metadata": {},
   "source": [
    "***\n",
    "##### Method 3\n",
    "The del keyword removes the item with the specified key name:"
   ]
  },
  {
   "cell_type": "code",
   "execution_count": 10,
   "metadata": {},
   "outputs": [
    {
     "name": "stdout",
     "output_type": "stream",
     "text": [
      "{'Dortmund': 'Borussia Dortmund', 'Madrid': 'Real Madrid C.F.', 'Naples': 'S.S.C. Napoli'}\n"
     ]
    }
   ],
   "source": [
    "uefadict = {\n",
    "  \"Munich\": \"FC Bayern Munich\",\n",
    "  \"Dortmund\": \"Borussia Dortmund\",\n",
    "  \"Madrid\": \"Real Madrid C.F.\",\n",
    "  \"Naples\":\"S.S.C. Napoli\"\n",
    "}\n",
    "del uefadict[\"Munich\"]\n",
    "print(uefadict)"
   ]
  },
  {
   "cell_type": "markdown",
   "metadata": {},
   "source": [
    "###### WARNING\n",
    "The del keyword can also delete the dictionary completely:"
   ]
  },
  {
   "cell_type": "code",
   "execution_count": 11,
   "metadata": {},
   "outputs": [
    {
     "ename": "NameError",
     "evalue": "name 'uefadict' is not defined",
     "output_type": "error",
     "traceback": [
      "\u001b[0;31m---------------------------------------------------------------------------\u001b[0m",
      "\u001b[0;31mNameError\u001b[0m                                 Traceback (most recent call last)",
      "\u001b[0;32m<ipython-input-11-655cd6a5655f>\u001b[0m in \u001b[0;36m<module>\u001b[0;34m\u001b[0m\n\u001b[1;32m      6\u001b[0m }\n\u001b[1;32m      7\u001b[0m \u001b[0;32mdel\u001b[0m \u001b[0muefadict\u001b[0m\u001b[0;34m\u001b[0m\u001b[0;34m\u001b[0m\u001b[0m\n\u001b[0;32m----> 8\u001b[0;31m \u001b[0mprint\u001b[0m\u001b[0;34m(\u001b[0m\u001b[0muefadict\u001b[0m\u001b[0;34m)\u001b[0m \u001b[0;31m#this will cause an error because \"uefadict\" no longer exists.\u001b[0m\u001b[0;34m\u001b[0m\u001b[0;34m\u001b[0m\u001b[0m\n\u001b[0m",
      "\u001b[0;31mNameError\u001b[0m: name 'uefadict' is not defined"
     ]
    }
   ],
   "source": [
    "uefadict = {\n",
    "  \"Munich\": \"FC Bayern Munich\",\n",
    "  \"Dortmund\": \"Borussia Dortmund\",\n",
    "  \"Madrid\": \"Real Madrid C.F.\",\n",
    "  \"Naples\":\"S.S.C. Napoli\"\n",
    "}\n",
    "del uefadict\n",
    "print(uefadict) #this will cause an error because \"uefadict\" no longer exists."
   ]
  },
  {
   "cell_type": "markdown",
   "metadata": {},
   "source": [
    "***\n",
    "##### Method 4\n",
    "The clear() method empties the dictionary:"
   ]
  },
  {
   "cell_type": "code",
   "execution_count": 12,
   "metadata": {},
   "outputs": [
    {
     "name": "stdout",
     "output_type": "stream",
     "text": [
      "{}\n"
     ]
    }
   ],
   "source": [
    "uefadict = {\n",
    "  \"Munich\": \"FC Bayern Munich\",\n",
    "  \"Dortmund\": \"Borussia Dortmund\",\n",
    "  \"Madrid\": \"Real Madrid C.F.\",\n",
    "  \"Naples\":\"S.S.C. Napoli\"\n",
    "}\n",
    "uefadict.clear()\n",
    "print(uefadict)"
   ]
  },
  {
   "cell_type": "markdown",
   "metadata": {},
   "source": [
    "***\n",
    "### Nested Dictionaries\n",
    "A dictionary that contains many dictionaries"
   ]
  },
  {
   "cell_type": "code",
   "execution_count": 13,
   "metadata": {},
   "outputs": [],
   "source": [
    "#Method1\n",
    "myfamily = {\n",
    "  \"sibling1\" : {\n",
    "    \"name\" : \"Josh\",\n",
    "    \"year\" : 2004\n",
    "  },\n",
    "  \"sibling2\" : {\n",
    "    \"name\" : \"Jake\",\n",
    "    \"year\" : 2007\n",
    "  },\n",
    "  \"sibling3\" : {\n",
    "    \"name\" : \"Jenny\",\n",
    "    \"year\" : 2011\n",
    "  }\n",
    "}"
   ]
  },
  {
   "cell_type": "code",
   "execution_count": 14,
   "metadata": {},
   "outputs": [],
   "source": [
    "#Method 2\n",
    "sibling1 = {\n",
    "  \"name\" : \"JOsh\",\n",
    "  \"year\" : 2004\n",
    "}\n",
    "sibling2 = {\n",
    "  \"name\" : \"Jake\",\n",
    "  \"year\" : 2007\n",
    "}\n",
    "sibling3 = {\n",
    "  \"name\" : \"Jenny\",\n",
    "  \"year\" : 2011\n",
    "}\n",
    "\n",
    "myfamily = {\n",
    "  \"child1\" : sibling1,\n",
    "  \"child2\" : sibling2,\n",
    "  \"child3\" : sibling3\n",
    "}"
   ]
  },
  {
   "cell_type": "markdown",
   "metadata": {},
   "source": [
    "***\n",
    "### Iterating a Dict"
   ]
  },
  {
   "cell_type": "markdown",
   "metadata": {},
   "source": [
    "***Printing all key names***"
   ]
  },
  {
   "cell_type": "code",
   "execution_count": 15,
   "metadata": {},
   "outputs": [
    {
     "name": "stdout",
     "output_type": "stream",
     "text": [
      "Munich\n",
      "Dortmund\n",
      "Madrid\n",
      "Naples\n"
     ]
    }
   ],
   "source": [
    "uefadict = {\n",
    "  \"Munich\": \"FC Bayern Munich\",\n",
    "  \"Dortmund\": \"Borussia Dortmund\",\n",
    "  \"Madrid\": \"Real Madrid C.F.\",\n",
    "  \"Naples\":\"S.S.C. Napoli\"\n",
    "}\n",
    "for x in uefadict:\n",
    "  print(x)"
   ]
  },
  {
   "cell_type": "markdown",
   "metadata": {},
   "source": [
    "***Printing all value names***"
   ]
  },
  {
   "cell_type": "code",
   "execution_count": 16,
   "metadata": {},
   "outputs": [
    {
     "name": "stdout",
     "output_type": "stream",
     "text": [
      "FC Bayern Munich\n",
      "Borussia Dortmund\n",
      "Real Madrid C.F.\n",
      "S.S.C. Napoli\n"
     ]
    }
   ],
   "source": [
    "uefadict = {\n",
    "  \"Munich\": \"FC Bayern Munich\",\n",
    "  \"Dortmund\": \"Borussia Dortmund\",\n",
    "  \"Madrid\": \"Real Madrid C.F.\",\n",
    "  \"Naples\":\"S.S.C. Napoli\"\n",
    "}\n",
    "for x in uefadict:\n",
    "  print(uefadict[x])"
   ]
  }
 ],
 "metadata": {
  "kernelspec": {
   "display_name": "Python 3",
   "language": "python",
   "name": "python3"
  },
  "language_info": {
   "codemirror_mode": {
    "name": "ipython",
    "version": 3
   },
   "file_extension": ".py",
   "mimetype": "text/x-python",
   "name": "python",
   "nbconvert_exporter": "python",
   "pygments_lexer": "ipython3",
   "version": "3.8.1"
  }
 },
 "nbformat": 4,
 "nbformat_minor": 4
}
